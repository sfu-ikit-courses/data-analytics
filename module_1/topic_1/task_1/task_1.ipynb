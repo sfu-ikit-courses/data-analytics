{
 "cells": [
  {
   "cell_type": "markdown",
   "metadata": {},
   "source": [
    "# Задание 1 (Тест)\n",
    "## Тема: Загрузка данных"
   ]
  },
  {
   "cell_type": "markdown",
   "metadata": {},
   "source": [
    "### Настройка зависимостей"
   ]
  },
  {
   "cell_type": "code",
   "execution_count": 1,
   "metadata": {},
   "outputs": [],
   "source": [
    "import pandas as pd"
   ]
  },
  {
   "cell_type": "markdown",
   "metadata": {},
   "source": [
    "### Вопрос 1\n",
    "Параметр `dtype` функции `pd.read_csv()` позволяет принудительно задать тип столбца."
   ]
  },
  {
   "cell_type": "markdown",
   "metadata": {},
   "source": [
    "### Вопрос 2\n",
    "Параметр `index_col` функции `pd.read_csv()` позволяет указать, какой столбец нужно использовать в качестве индекса при чтении файла."
   ]
  },
  {
   "cell_type": "markdown",
   "metadata": {},
   "source": [
    "### Вопрос 3\n",
    "С помощью атрибута `dtypes` можно узнать типы столбцов датафрейма."
   ]
  },
  {
   "cell_type": "markdown",
   "metadata": {},
   "source": [
    "### Вопрос 4\n",
    "Параметр `usecols` функции `pd.read_excel()` позволяет указать, какие столбцы нужно загружать при чтении файла."
   ]
  },
  {
   "cell_type": "markdown",
   "metadata": {},
   "source": [
    "### Вопрос 5\n",
    "Параметр `names` функции `pd.read_excel()` позволяет указать имена столбцов во время чтения данных."
   ]
  },
  {
   "cell_type": "markdown",
   "metadata": {},
   "source": [
    "### Вопрос 6\n",
    "Считайте данные с файла [msft.csv](./msft.csv). Выполните преобразование столбца **Date** к типу datetime с помощью функции `pd.to_datetime()`.\n",
    "\n",
    "Укажите среднее значение стоимости открытия акций компании Microsoft в 2022 году. Ответ округлите до 2 знаков после запятой."
   ]
  },
  {
   "cell_type": "code",
   "execution_count": null,
   "metadata": {},
   "outputs": [
    {
     "data": {
      "text/plain": [
       "269.11"
      ]
     },
     "execution_count": 1,
     "metadata": {},
     "output_type": "execute_result"
    }
   ],
   "source": [
    "msft = pd.read_csv(\"msft.csv\")\n",
    "msft[\"Date\"] = pd.to_datetime(msft[\"Date\"])\n",
    "\n",
    "mask = msft[\"Date\"].dt.year == 2022\n",
    "answer = float(msft[mask][\"Open\"].mean().round(2))\n",
    "\n",
    "answer"
   ]
  },
  {
   "cell_type": "markdown",
   "metadata": {},
   "source": [
    "### Вопрос 7\n",
    "Считайте данные листа msft с [файла](./stocks.xlsx). При чтении в качестве типа данных для столбца **Date** установите `np.datetime64` и установите столбец **Date** в качестве индекса.\n",
    "\n",
    "Укажите день с максимальной стоимостью закрытия акций компании Microsoft в 2011 году. Ответ запишите в формате: 2024-12-31"
   ]
  },
  {
   "cell_type": "code",
   "execution_count": null,
   "metadata": {},
   "outputs": [
    {
     "data": {
      "text/plain": [
       "'2011-04-29'"
      ]
     },
     "execution_count": 2,
     "metadata": {},
     "output_type": "execute_result"
    }
   ],
   "source": [
    "msft = pd.read_excel(\n",
    "    \"stocks.xlsx\", index_col=\"Date\", parse_dates=[\"Date\"], sheet_name=\"msft\"\n",
    ")\n",
    "\n",
    "mask = msft.index.year == 2011\n",
    "max_close_day = msft[mask][\"Close\"].idxmax()\n",
    "answer = max_close_day.strftime(\"%Y-%m-%d\")\n",
    "\n",
    "answer"
   ]
  },
  {
   "cell_type": "markdown",
   "metadata": {},
   "source": [
    "### Вопрос 8\n",
    "Считайте данные листа aapl с [файла](./stocks.xlsx). При чтении пропустите первые 100 строк и считайте данные следующих 500 строк, используйте столбцы **Date**, **Open**, **Close** и **Volume**.\n",
    "\n",
    "Укажите значение параметра **Volume** для строки на 120 позиции."
   ]
  },
  {
   "cell_type": "code",
   "execution_count": null,
   "metadata": {},
   "outputs": [
    {
     "data": {
      "text/plain": [
       "np.int64(59091900)"
      ]
     },
     "execution_count": 3,
     "metadata": {},
     "output_type": "execute_result"
    }
   ],
   "source": [
    "aapl = pd.read_excel(\n",
    "    \"stocks.xlsx\",\n",
    "    sheet_name=\"aapl\",\n",
    "    skiprows=100,\n",
    "    nrows=500,\n",
    "    usecols=[0, 1, 4, 5],\n",
    "    header=0,\n",
    "    names=[\"Date\", \"Open\", \"Close\", \"Volume\"],\n",
    ")\n",
    "\n",
    "\n",
    "answer = aapl.iloc[119][\"Volume\"]\n",
    "\n",
    "answer"
   ]
  },
  {
   "cell_type": "markdown",
   "metadata": {},
   "source": [
    "### Вопрос 9\n",
    "Укажите год, в котором медианное значение стоимости открытия акций компании Microsoft было меньше 35$.\n",
    "\n",
    "Примечание. С помощью метода `resample()` можно перегруппировать данные по годам."
   ]
  },
  {
   "cell_type": "code",
   "execution_count": null,
   "metadata": {},
   "outputs": [
    {
     "name": "stderr",
     "output_type": "stream",
     "text": [
      "/var/folders/4m/26y4cnv170d99ydf6647y13w0000gn/T/ipykernel_10959/3071088.py:7: FutureWarning: 'Y' is deprecated and will be removed in a future version, please use 'YE' instead.\n",
      "  median = msft[\"Open\"].resample(\"Y\").median()\n"
     ]
    },
    {
     "data": {
      "text/plain": [
       "np.int32(2009)"
      ]
     },
     "execution_count": 4,
     "metadata": {},
     "output_type": "execute_result"
    }
   ],
   "source": [
    "msft = pd.read_excel(\n",
    "    \"stocks.xlsx\", sheet_name=\"msft\", parse_dates=[\"Date\"], index_col=\"Date\"\n",
    ")\n",
    "\n",
    "median = msft[\"Open\"].resample(\"Y\").median()\n",
    "answer = median[median < 35].index.year[0]\n",
    "\n",
    "answer"
   ]
  },
  {
   "cell_type": "markdown",
   "metadata": {},
   "source": [
    "### Вопрос 10\n",
    "Считайте данные с [файла](./stocks.json). Укажите кол-во дней, когда стоимость открытия акций компании Microsoft была от 60$ до 80$ включительно."
   ]
  },
  {
   "cell_type": "code",
   "execution_count": null,
   "metadata": {},
   "outputs": [
    {
     "data": {
      "text/plain": [
       "27"
      ]
     },
     "execution_count": 5,
     "metadata": {},
     "output_type": "execute_result"
    }
   ],
   "source": [
    "msft = pd.read_json(\"stocks.json\")\n",
    "\n",
    "mask = msft[\"Open\"].between(60, 80)\n",
    "answer = len(msft[mask])\n",
    "\n",
    "answer"
   ]
  }
 ],
 "metadata": {
  "kernelspec": {
   "display_name": "venv",
   "language": "python",
   "name": "python3"
  },
  "language_info": {
   "codemirror_mode": {
    "name": "ipython",
    "version": 3
   },
   "file_extension": ".py",
   "mimetype": "text/x-python",
   "name": "python",
   "nbconvert_exporter": "python",
   "pygments_lexer": "ipython3",
   "version": "3.13.2"
  }
 },
 "nbformat": 4,
 "nbformat_minor": 2
}
