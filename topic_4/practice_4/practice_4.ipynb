{
 "cells": [
  {
   "cell_type": "markdown",
   "metadata": {},
   "source": [
    "# Практическая работа 4 (Тест)\n",
    "## Тема: Агрегирование данных"
   ]
  },
  {
   "cell_type": "markdown",
   "metadata": {},
   "source": [
    "### Настройка окружения"
   ]
  },
  {
   "cell_type": "code",
   "execution_count": 220,
   "metadata": {},
   "outputs": [],
   "source": [
    "import pandas as pd"
   ]
  },
  {
   "cell_type": "markdown",
   "metadata": {},
   "source": [
    "### Вопрос 1\n",
    "В файле [torg.csv](./torg.csv) представлена выгрузка со склада интернет-магазина."
   ]
  },
  {
   "cell_type": "code",
   "execution_count": 221,
   "metadata": {},
   "outputs": [
    {
     "data": {
      "text/html": [
       "<div>\n",
       "<style scoped>\n",
       "    .dataframe tbody tr th:only-of-type {\n",
       "        vertical-align: middle;\n",
       "    }\n",
       "\n",
       "    .dataframe tbody tr th {\n",
       "        vertical-align: top;\n",
       "    }\n",
       "\n",
       "    .dataframe thead th {\n",
       "        text-align: right;\n",
       "    }\n",
       "</style>\n",
       "<table border=\"1\" class=\"dataframe\">\n",
       "  <thead>\n",
       "    <tr style=\"text-align: right;\">\n",
       "      <th></th>\n",
       "      <th>IE_XML_ID</th>\n",
       "      <th>IE_NAME</th>\n",
       "      <th>IP_PROP30</th>\n",
       "      <th>IP_PROP31</th>\n",
       "      <th>IP_PROP32</th>\n",
       "      <th>CP_QUANTITY</th>\n",
       "      <th>CR_PRICE_1_USD</th>\n",
       "    </tr>\n",
       "  </thead>\n",
       "  <tbody>\n",
       "    <tr>\n",
       "      <th>0</th>\n",
       "      <td>179</td>\n",
       "      <td>Штаны Полосатый Рейс</td>\n",
       "      <td>purple</td>\n",
       "      <td>NaN</td>\n",
       "      <td>L</td>\n",
       "      <td>99</td>\n",
       "      <td>29.06</td>\n",
       "    </tr>\n",
       "    <tr>\n",
       "      <th>1</th>\n",
       "      <td>181</td>\n",
       "      <td>Штаны Полосатый Рейс</td>\n",
       "      <td>purple</td>\n",
       "      <td>NaN</td>\n",
       "      <td>XL</td>\n",
       "      <td>100</td>\n",
       "      <td>29.06</td>\n",
       "    </tr>\n",
       "    <tr>\n",
       "      <th>2</th>\n",
       "      <td>182</td>\n",
       "      <td>Штаны Полосатый Рейс</td>\n",
       "      <td>purple</td>\n",
       "      <td>NaN</td>\n",
       "      <td>XS</td>\n",
       "      <td>100</td>\n",
       "      <td>29.06</td>\n",
       "    </tr>\n",
       "    <tr>\n",
       "      <th>3</th>\n",
       "      <td>183</td>\n",
       "      <td>Штаны Полосатый Рейс</td>\n",
       "      <td>purple</td>\n",
       "      <td>NaN</td>\n",
       "      <td>M</td>\n",
       "      <td>100</td>\n",
       "      <td>29.06</td>\n",
       "    </tr>\n",
       "    <tr>\n",
       "      <th>4</th>\n",
       "      <td>184</td>\n",
       "      <td>Штаны Полосатый Рейс</td>\n",
       "      <td>purple</td>\n",
       "      <td>NaN</td>\n",
       "      <td>S</td>\n",
       "      <td>100</td>\n",
       "      <td>29.06</td>\n",
       "    </tr>\n",
       "  </tbody>\n",
       "</table>\n",
       "</div>"
      ],
      "text/plain": [
       "   IE_XML_ID               IE_NAME IP_PROP30  IP_PROP31 IP_PROP32  \\\n",
       "0        179  Штаны Полосатый Рейс    purple        NaN         L   \n",
       "1        181  Штаны Полосатый Рейс    purple        NaN        XL   \n",
       "2        182  Штаны Полосатый Рейс    purple        NaN        XS   \n",
       "3        183  Штаны Полосатый Рейс    purple        NaN         M   \n",
       "4        184  Штаны Полосатый Рейс    purple        NaN         S   \n",
       "\n",
       "   CP_QUANTITY  CR_PRICE_1_USD  \n",
       "0           99           29.06  \n",
       "1          100           29.06  \n",
       "2          100           29.06  \n",
       "3          100           29.06  \n",
       "4          100           29.06  "
      ]
     },
     "execution_count": 221,
     "metadata": {},
     "output_type": "execute_result"
    }
   ],
   "source": [
    "products = pd.read_csv(\"torg.csv\", sep=\";\")\n",
    "products.head()"
   ]
  },
  {
   "cell_type": "markdown",
   "metadata": {},
   "source": [
    "1. Определите суммарное количество единиц товара (**CP_QUANTITY**) каждого размера на складе. Отсортируйте размеры по увеличению остатков на складе. Если товаров одного размера одинаковое количество, то размеры сортируются \"лексикографически\". Укажите размер, который оказался вторым после сортировки."
   ]
  },
  {
   "cell_type": "code",
   "execution_count": 222,
   "metadata": {},
   "outputs": [
    {
     "data": {
      "text/plain": [
       "'S'"
      ]
     },
     "execution_count": 222,
     "metadata": {},
     "output_type": "execute_result"
    }
   ],
   "source": [
    "sum_by_size = products.groupby(\"IP_PROP32\", as_index=False)[\"CP_QUANTITY\"].sum()\n",
    "\n",
    "sum_by_size.sort_values([\"CP_QUANTITY\", \"IP_PROP32\"], inplace=True)\n",
    "\n",
    "sum_by_size.iloc[1][\"IP_PROP32\"]"
   ]
  },
  {
   "cell_type": "markdown",
   "metadata": {},
   "source": [
    "2. Добавьте столбец с общей стоимостью *(**TOTAL**) = цена за 1 единицу товара (**CR_PRICE_1_USD**) * кол-во (**CP_QUANTITY**)*. Выполните группировку по цвету (**IP_PROP30**) и размеру (**IP_PROP32**) и найдите суммарную стоимость товаров. Укажите общую стоимость черных вещей размера L."
   ]
  },
  {
   "cell_type": "code",
   "execution_count": 223,
   "metadata": {},
   "outputs": [
    {
     "data": {
      "text/plain": [
       "np.float64(24993.0)"
      ]
     },
     "execution_count": 223,
     "metadata": {},
     "output_type": "execute_result"
    }
   ],
   "source": [
    "products[\"TOTAL\"] = products[\"CP_QUANTITY\"] * products[\"CR_PRICE_1_USD\"]\n",
    "\n",
    "total_by_color_and_size = products.groupby([\"IP_PROP30\", \"IP_PROP32\"])[\"TOTAL\"].sum()\n",
    "\n",
    "total_by_color_and_size[\"black\", \"L\"]"
   ]
  },
  {
   "cell_type": "markdown",
   "metadata": {},
   "source": [
    "3. Посчитайте кол-во товаров каждого цвета на складе и заполните пропуски."
   ]
  },
  {
   "cell_type": "code",
   "execution_count": 224,
   "metadata": {},
   "outputs": [
    {
     "data": {
      "text/plain": [
       "IP_PROP30\n",
       "azure         500\n",
       "black        5000\n",
       "blue         1800\n",
       "brown        3500\n",
       "flowers       500\n",
       "green        1499\n",
       "jeans         500\n",
       "orangered     498\n",
       "pink         2000\n",
       "purple       2199\n",
       "red          2497\n",
       "redblue       499\n",
       "see          1000\n",
       "white        4999\n",
       "Name: CP_QUANTITY, dtype: int64"
      ]
     },
     "execution_count": 224,
     "metadata": {},
     "output_type": "execute_result"
    }
   ],
   "source": [
    "products.groupby(\"IP_PROP30\")[\"CP_QUANTITY\"].sum()"
   ]
  },
  {
   "cell_type": "markdown",
   "metadata": {},
   "source": [
    "### Вопрос 2\n"
   ]
  },
  {
   "cell_type": "markdown",
   "metadata": {},
   "source": [
    "В представленном файле [data_menu.csv](./data_menu.csv) вы можете найти информацию о различных заказах, сделанных в кафе за месяц.\n",
    "\n",
    "Описание переменных:\n",
    "\n",
    "- **order_id** - Номер заказа\n",
    "- **quantity** - Количество товара/блюда, которое было заказано\n",
    "- **item_name** - Наименование блюда/товара\n",
    "- **choice_description** - Описание блюда. У одинаковых **item_name** могут быть разные описания (так, сок может быть яблочным или апельсиновым, и это отличие будет указано в данном пункте, оба товара будут иметь одинаковый **item_name**)\n",
    "- **item_price** - Стоимость указанной позиции"
   ]
  },
  {
   "cell_type": "code",
   "execution_count": 225,
   "metadata": {},
   "outputs": [
    {
     "data": {
      "text/html": [
       "<div>\n",
       "<style scoped>\n",
       "    .dataframe tbody tr th:only-of-type {\n",
       "        vertical-align: middle;\n",
       "    }\n",
       "\n",
       "    .dataframe tbody tr th {\n",
       "        vertical-align: top;\n",
       "    }\n",
       "\n",
       "    .dataframe thead th {\n",
       "        text-align: right;\n",
       "    }\n",
       "</style>\n",
       "<table border=\"1\" class=\"dataframe\">\n",
       "  <thead>\n",
       "    <tr style=\"text-align: right;\">\n",
       "      <th></th>\n",
       "      <th>order_id</th>\n",
       "      <th>quantity</th>\n",
       "      <th>item_name</th>\n",
       "      <th>choice_description</th>\n",
       "      <th>item_price</th>\n",
       "    </tr>\n",
       "  </thead>\n",
       "  <tbody>\n",
       "    <tr>\n",
       "      <th>0</th>\n",
       "      <td>1</td>\n",
       "      <td>1</td>\n",
       "      <td>Chips and Fresh Tomato Salsa</td>\n",
       "      <td>NaN</td>\n",
       "      <td>2.39</td>\n",
       "    </tr>\n",
       "    <tr>\n",
       "      <th>1</th>\n",
       "      <td>1</td>\n",
       "      <td>1</td>\n",
       "      <td>Izze</td>\n",
       "      <td>[Clementine]</td>\n",
       "      <td>3.39</td>\n",
       "    </tr>\n",
       "    <tr>\n",
       "      <th>2</th>\n",
       "      <td>1</td>\n",
       "      <td>1</td>\n",
       "      <td>Nantucket Nectar</td>\n",
       "      <td>[Apple]</td>\n",
       "      <td>3.39</td>\n",
       "    </tr>\n",
       "    <tr>\n",
       "      <th>3</th>\n",
       "      <td>1</td>\n",
       "      <td>1</td>\n",
       "      <td>Chips and Tomatillo-Green Chili Salsa</td>\n",
       "      <td>NaN</td>\n",
       "      <td>2.39</td>\n",
       "    </tr>\n",
       "    <tr>\n",
       "      <th>4</th>\n",
       "      <td>3</td>\n",
       "      <td>1</td>\n",
       "      <td>Chicken Bowl</td>\n",
       "      <td>[Fresh Tomato Salsa (Mild), [Rice, Cheese, Sou...</td>\n",
       "      <td>10.98</td>\n",
       "    </tr>\n",
       "  </tbody>\n",
       "</table>\n",
       "</div>"
      ],
      "text/plain": [
       "   order_id  quantity                              item_name  \\\n",
       "0         1         1           Chips and Fresh Tomato Salsa   \n",
       "1         1         1                                   Izze   \n",
       "2         1         1                       Nantucket Nectar   \n",
       "3         1         1  Chips and Tomatillo-Green Chili Salsa   \n",
       "4         3         1                           Chicken Bowl   \n",
       "\n",
       "                                  choice_description  item_price  \n",
       "0                                                NaN        2.39  \n",
       "1                                       [Clementine]        3.39  \n",
       "2                                            [Apple]        3.39  \n",
       "3                                                NaN        2.39  \n",
       "4  [Fresh Tomato Salsa (Mild), [Rice, Cheese, Sou...       10.98  "
      ]
     },
     "execution_count": 225,
     "metadata": {},
     "output_type": "execute_result"
    }
   ],
   "source": [
    "orders = pd.read_csv(\"data_menu.csv\")\n",
    "orders.head()"
   ]
  },
  {
   "cell_type": "markdown",
   "metadata": {},
   "source": [
    "Вас попросили сделать небольшую аналитику по имеющимся продажам. Заполните пропуски в предложенном ниже тексте, чтобы справиться с поставленным перед вами заданием. Если ваш ответ представлен дробным числом, запишите его через запятую с округлением до 2 знаков после запятой (например, если вы получили 1/3, то в ответе необходимо указать 0,33)."
   ]
  },
  {
   "cell_type": "markdown",
   "metadata": {},
   "source": [
    "Всего за указанный период количество заказов составило ... ."
   ]
  },
  {
   "cell_type": "code",
   "execution_count": 226,
   "metadata": {},
   "outputs": [
    {
     "data": {
      "text/plain": [
       "1223"
      ]
     },
     "execution_count": 226,
     "metadata": {},
     "output_type": "execute_result"
    }
   ],
   "source": [
    "grouped_by_id = orders.groupby(\"order_id\")\n",
    "\n",
    "grouped_by_id.ngroups"
   ]
  },
  {
   "cell_type": "markdown",
   "metadata": {},
   "source": [
    "В среднем в каждом заказе ... позиции на общую сумму ... ."
   ]
  },
  {
   "cell_type": "code",
   "execution_count": 227,
   "metadata": {},
   "outputs": [
    {
     "name": "stdout",
     "output_type": "stream",
     "text": [
      "2.51 21.75\n"
     ]
    }
   ],
   "source": [
    "mean_positions = round(grouped_by_id.size().mean(), 2)\n",
    "\n",
    "orders[\"total\"] = orders[\"quantity\"] * orders[\"item_price\"]\n",
    "grouped_by_id = orders.groupby(\"order_id\")\n",
    "\n",
    "mean_total_by_order = round(grouped_by_id[\"total\"].sum().mean(), 2)\n",
    "\n",
    "print(mean_positions, mean_total_by_order)"
   ]
  },
  {
   "cell_type": "markdown",
   "metadata": {},
   "source": [
    "Всего за указанный период было заказано ... уникальных позиций из нашего меню."
   ]
  },
  {
   "cell_type": "code",
   "execution_count": 228,
   "metadata": {},
   "outputs": [
    {
     "data": {
      "text/plain": [
       "1353"
      ]
     },
     "execution_count": 228,
     "metadata": {},
     "output_type": "execute_result"
    }
   ],
   "source": [
    "orders.groupby([\"item_name\", \"choice_description\"]).ngroups"
   ]
  },
  {
   "cell_type": "markdown",
   "metadata": {},
   "source": [
    "Из всех видов позиций (**item_name**) наибольшую выручку в нашем кафе принесла ... ."
   ]
  },
  {
   "cell_type": "code",
   "execution_count": 229,
   "metadata": {},
   "outputs": [
    {
     "data": {
      "text/plain": [
       "'Chicken Bowl'"
      ]
     },
     "execution_count": 229,
     "metadata": {},
     "output_type": "execute_result"
    }
   ],
   "source": [
    "orders.groupby(\"item_name\")[\"total\"].sum().idxmax()"
   ]
  },
  {
   "cell_type": "markdown",
   "metadata": {},
   "source": [
    "### Вопрос 3\n",
    "Набор данных [music.csv](./music.csv) содержит данные сервиса \"Яндекс Музыка\" о прослушивании песен в Москве и Санкт-Петербурге за некоторый период времени.\n",
    "\n",
    "*Описание переменных:*\n",
    "\n",
    "- **userID** — идентификатор пользователя;\n",
    "- **Track** — название трека;\n",
    "- **artist** — имя исполнителя;\n",
    "- **genre** — название жанра;\n",
    "- **City** — город, в котором происходило прослушивание;\n",
    "- **time** — время, в которое пользователь слушал трек;\n",
    "- **Day** — день недели."
   ]
  },
  {
   "cell_type": "code",
   "execution_count": 230,
   "metadata": {},
   "outputs": [
    {
     "data": {
      "text/html": [
       "<div>\n",
       "<style scoped>\n",
       "    .dataframe tbody tr th:only-of-type {\n",
       "        vertical-align: middle;\n",
       "    }\n",
       "\n",
       "    .dataframe tbody tr th {\n",
       "        vertical-align: top;\n",
       "    }\n",
       "\n",
       "    .dataframe thead th {\n",
       "        text-align: right;\n",
       "    }\n",
       "</style>\n",
       "<table border=\"1\" class=\"dataframe\">\n",
       "  <thead>\n",
       "    <tr style=\"text-align: right;\">\n",
       "      <th></th>\n",
       "      <th>userID</th>\n",
       "      <th>Track</th>\n",
       "      <th>artist</th>\n",
       "      <th>genre</th>\n",
       "      <th>City</th>\n",
       "      <th>time</th>\n",
       "      <th>Day</th>\n",
       "    </tr>\n",
       "  </thead>\n",
       "  <tbody>\n",
       "    <tr>\n",
       "      <th>0</th>\n",
       "      <td>FFB692EC</td>\n",
       "      <td>Kamigata To Boots</td>\n",
       "      <td>The Mass Missile</td>\n",
       "      <td>rock</td>\n",
       "      <td>Saint-Petersburg</td>\n",
       "      <td>20:28:33</td>\n",
       "      <td>Wednesday</td>\n",
       "    </tr>\n",
       "    <tr>\n",
       "      <th>1</th>\n",
       "      <td>55204538</td>\n",
       "      <td>Delayed Because of Accident</td>\n",
       "      <td>Andreas Rönnberg</td>\n",
       "      <td>rock</td>\n",
       "      <td>Moscow</td>\n",
       "      <td>14:07:09</td>\n",
       "      <td>Friday</td>\n",
       "    </tr>\n",
       "    <tr>\n",
       "      <th>2</th>\n",
       "      <td>20EC38</td>\n",
       "      <td>Funiculì funiculà</td>\n",
       "      <td>Mario Lanza</td>\n",
       "      <td>pop</td>\n",
       "      <td>Saint-Petersburg</td>\n",
       "      <td>20:58:07</td>\n",
       "      <td>Wednesday</td>\n",
       "    </tr>\n",
       "    <tr>\n",
       "      <th>3</th>\n",
       "      <td>A3DD03C9</td>\n",
       "      <td>Dragons in the Sunset</td>\n",
       "      <td>Fire + Ice</td>\n",
       "      <td>folk</td>\n",
       "      <td>Saint-Petersburg</td>\n",
       "      <td>08:37:09</td>\n",
       "      <td>Monday</td>\n",
       "    </tr>\n",
       "    <tr>\n",
       "      <th>4</th>\n",
       "      <td>E2DC1FAE</td>\n",
       "      <td>Soul People</td>\n",
       "      <td>Space Echo</td>\n",
       "      <td>dance</td>\n",
       "      <td>Moscow</td>\n",
       "      <td>08:34:34</td>\n",
       "      <td>Monday</td>\n",
       "    </tr>\n",
       "  </tbody>\n",
       "</table>\n",
       "</div>"
      ],
      "text/plain": [
       "     userID                        Track            artist  genre  \\\n",
       "0  FFB692EC            Kamigata To Boots  The Mass Missile   rock   \n",
       "1  55204538  Delayed Because of Accident  Andreas Rönnberg   rock   \n",
       "2    20EC38            Funiculì funiculà       Mario Lanza    pop   \n",
       "3  A3DD03C9        Dragons in the Sunset        Fire + Ice   folk   \n",
       "4  E2DC1FAE                  Soul People        Space Echo  dance   \n",
       "\n",
       "             City        time        Day  \n",
       "0  Saint-Petersburg  20:28:33  Wednesday  \n",
       "1            Moscow  14:07:09     Friday  \n",
       "2  Saint-Petersburg  20:58:07  Wednesday  \n",
       "3  Saint-Petersburg  08:37:09     Monday  \n",
       "4            Moscow  08:34:34     Monday  "
      ]
     },
     "execution_count": 230,
     "metadata": {},
     "output_type": "execute_result"
    }
   ],
   "source": [
    "music = pd.read_csv(\"music.csv\")\n",
    "\n",
    "music.head()"
   ]
  },
  {
   "cell_type": "markdown",
   "metadata": {},
   "source": [
    "1. Укажите кол-во наблюдений в датафрейме."
   ]
  },
  {
   "cell_type": "code",
   "execution_count": 231,
   "metadata": {},
   "outputs": [
    {
     "data": {
      "text/plain": [
       "65079"
      ]
     },
     "execution_count": 231,
     "metadata": {},
     "output_type": "execute_result"
    }
   ],
   "source": [
    "music.shape[0]"
   ]
  },
  {
   "cell_type": "markdown",
   "metadata": {},
   "source": [
    "2. Укажите кол-во переменных, содержащих пропуски."
   ]
  },
  {
   "cell_type": "code",
   "execution_count": 232,
   "metadata": {},
   "outputs": [
    {
     "data": {
      "text/plain": [
       "3"
      ]
     },
     "execution_count": 232,
     "metadata": {},
     "output_type": "execute_result"
    }
   ],
   "source": [
    "music.columns[music.isnull().any()].shape[0]"
   ]
  },
  {
   "cell_type": "markdown",
   "metadata": {},
   "source": [
    "3. Укажите кол-во дубликатов."
   ]
  },
  {
   "cell_type": "code",
   "execution_count": 233,
   "metadata": {},
   "outputs": [
    {
     "data": {
      "text/plain": [
       "np.int64(3826)"
      ]
     },
     "execution_count": 233,
     "metadata": {},
     "output_type": "execute_result"
    }
   ],
   "source": [
    "music.duplicated().sum()"
   ]
  },
  {
   "cell_type": "markdown",
   "metadata": {},
   "source": [
    "4. Выполните предобработку данных:"
   ]
  },
  {
   "cell_type": "markdown",
   "metadata": {},
   "source": [
    "- уберите пробелы в названии столбцов;"
   ]
  },
  {
   "cell_type": "code",
   "execution_count": 234,
   "metadata": {},
   "outputs": [],
   "source": [
    "music.columns = music.columns.str.strip()"
   ]
  },
  {
   "cell_type": "markdown",
   "metadata": {},
   "source": [
    "- пропущенные значения в столбцах с названием трека и исполнителя замените на строку 'unknown', в остальных столбцах пустые значения удалите;"
   ]
  },
  {
   "cell_type": "code",
   "execution_count": 235,
   "metadata": {},
   "outputs": [],
   "source": [
    "music.fillna({\"Track\": \"unknown\", \"artist\": \"unknown\"}, inplace=True)\n",
    "\n",
    "music.dropna(inplace=True)"
   ]
  },
  {
   "cell_type": "markdown",
   "metadata": {},
   "source": [
    "- удалите дубликаты;"
   ]
  },
  {
   "cell_type": "code",
   "execution_count": 236,
   "metadata": {},
   "outputs": [],
   "source": [
    "music.drop_duplicates(inplace=True)"
   ]
  },
  {
   "cell_type": "markdown",
   "metadata": {},
   "source": [
    "- удалите \"неявные\" дубликаты: жанр \"hip\" замените на \"hiphop\";"
   ]
  },
  {
   "cell_type": "code",
   "execution_count": 237,
   "metadata": {},
   "outputs": [],
   "source": [
    "music.genre = music.genre.replace(\"hip\", \"hiphop\")"
   ]
  },
  {
   "cell_type": "markdown",
   "metadata": {},
   "source": [
    "- в качестве индекса используйте идентификатор пользователя."
   ]
  },
  {
   "cell_type": "code",
   "execution_count": 238,
   "metadata": {},
   "outputs": [],
   "source": [
    "music.set_index(\"userID\", inplace=True)"
   ]
  },
  {
   "cell_type": "markdown",
   "metadata": {},
   "source": [
    "- Укажите кол-во наблюдений в датафрейме, оставшихся после этапа предобработки данных."
   ]
  },
  {
   "cell_type": "code",
   "execution_count": 239,
   "metadata": {},
   "outputs": [
    {
     "data": {
      "text/plain": [
       "60126"
      ]
     },
     "execution_count": 239,
     "metadata": {},
     "output_type": "execute_result"
    }
   ],
   "source": [
    "music.shape[0]"
   ]
  },
  {
   "cell_type": "markdown",
   "metadata": {},
   "source": [
    "5. Укажите кол-во прослушиваний в пятницу."
   ]
  },
  {
   "cell_type": "code",
   "execution_count": 240,
   "metadata": {},
   "outputs": [
    {
     "data": {
      "text/plain": [
       "21482"
      ]
     },
     "execution_count": 240,
     "metadata": {},
     "output_type": "execute_result"
    }
   ],
   "source": [
    "music[music.Day == \"Friday\"].shape[0]"
   ]
  },
  {
   "cell_type": "markdown",
   "metadata": {},
   "source": [
    "6. На какой день приходится пик прослушиваний в Санкт-Петербурге? В ответе укажите кол-во прослушиваний в этот день."
   ]
  },
  {
   "cell_type": "code",
   "execution_count": 241,
   "metadata": {},
   "outputs": [
    {
     "data": {
      "text/plain": [
       "np.int64(6913)"
      ]
     },
     "execution_count": 241,
     "metadata": {},
     "output_type": "execute_result"
    }
   ],
   "source": [
    "grouped_by_day = music[music.City == \"Saint-Petersburg\"].groupby(\"Day\")\n",
    "\n",
    "grouped_by_day.size().max()"
   ]
  },
  {
   "cell_type": "markdown",
   "metadata": {},
   "source": [
    "7. Составьте утренний (с 7:00 до 10:00) топ-10 жанров музыки для понедельника в Санкт-Петербурге. Укажите название и кол-во прослушиваний для 4-го по популярности жанра."
   ]
  },
  {
   "cell_type": "code",
   "execution_count": 242,
   "metadata": {},
   "outputs": [
    {
     "name": "stderr",
     "output_type": "stream",
     "text": [
      "/var/folders/4m/26y4cnv170d99ydf6647y13w0000gn/T/ipykernel_5997/614621548.py:1: UserWarning: Could not infer format, so each element will be parsed individually, falling back to `dateutil`. To ensure parsing is consistent and as-expected, please specify a format.\n",
      "  music.time = pd.to_datetime(music.time)\n"
     ]
    },
    {
     "name": "stdout",
     "output_type": "stream",
     "text": [
      "electronic 144\n"
     ]
    }
   ],
   "source": [
    "music.time = pd.to_datetime(music.time)\n",
    "\n",
    "spb_friday_morning = music[\n",
    "    (\n",
    "        (music.City == \"Saint-Petersburg\")\n",
    "        & (music.Day == \"Monday\")\n",
    "        & (music.time.between(\"7:00\", \"10:00\"))\n",
    "    )\n",
    "]\n",
    "\n",
    "genre_top_10 = spb_friday_morning.genre.value_counts().head(10)\n",
    "\n",
    "print(genre_top_10.index[3], genre_top_10.iloc[3])"
   ]
  },
  {
   "cell_type": "markdown",
   "metadata": {},
   "source": [
    "8. Укажите название жанра, который является вторым по популярности и в Москве, и в Санкт-Петербурге."
   ]
  },
  {
   "cell_type": "code",
   "execution_count": 243,
   "metadata": {},
   "outputs": [
    {
     "data": {
      "text/plain": [
       "'dance'"
      ]
     },
     "execution_count": 243,
     "metadata": {},
     "output_type": "execute_result"
    }
   ],
   "source": [
    "music.genre.value_counts().index[1]"
   ]
  },
  {
   "cell_type": "markdown",
   "metadata": {},
   "source": [
    "9. Укажите общее кол-во прослушиваний трека 'Fire'."
   ]
  },
  {
   "cell_type": "code",
   "execution_count": 244,
   "metadata": {},
   "outputs": [
    {
     "data": {
      "text/plain": [
       "20"
      ]
     },
     "execution_count": 244,
     "metadata": {},
     "output_type": "execute_result"
    }
   ],
   "source": [
    "music[music.Track == \"Fire\"].shape[0]"
   ]
  },
  {
   "cell_type": "markdown",
   "metadata": {},
   "source": [
    "### Вопрос 4\n",
    "Набор данных [StudentsPerformance.csv](./StudentsPerformance.csv) содержит фрагмент выгрузки об абитуриентах. Информация разбита на категории:\n",
    "\n",
    "- **gender** — пол абитуриента  (female - женщина, male - мужчина);\n",
    "- **race/ethnicity** — национальность (зашифрована в виде значений \"group A\", \"group B\" и т.д.);\n",
    "- **parental level of education** — уровень образования родителей;\n",
    "- **lunch** — насколько качественно пообедал абитуриент перед тестом;\n",
    "- **test preparation course** — закончил ли абитуриент подготовительные курсы;\n",
    "- **math score** — оценка по математике;\n",
    "- **reading score** — оценка по чтению;\n",
    "- **writing score** — оценка по письму."
   ]
  },
  {
   "cell_type": "code",
   "execution_count": 245,
   "metadata": {},
   "outputs": [
    {
     "data": {
      "text/html": [
       "<div>\n",
       "<style scoped>\n",
       "    .dataframe tbody tr th:only-of-type {\n",
       "        vertical-align: middle;\n",
       "    }\n",
       "\n",
       "    .dataframe tbody tr th {\n",
       "        vertical-align: top;\n",
       "    }\n",
       "\n",
       "    .dataframe thead th {\n",
       "        text-align: right;\n",
       "    }\n",
       "</style>\n",
       "<table border=\"1\" class=\"dataframe\">\n",
       "  <thead>\n",
       "    <tr style=\"text-align: right;\">\n",
       "      <th></th>\n",
       "      <th>gender</th>\n",
       "      <th>race/ethnicity</th>\n",
       "      <th>parental level of education</th>\n",
       "      <th>lunch</th>\n",
       "      <th>test preparation course</th>\n",
       "      <th>math score</th>\n",
       "      <th>reading score</th>\n",
       "      <th>writing score</th>\n",
       "    </tr>\n",
       "  </thead>\n",
       "  <tbody>\n",
       "    <tr>\n",
       "      <th>0</th>\n",
       "      <td>female</td>\n",
       "      <td>group B</td>\n",
       "      <td>bachelor's degree</td>\n",
       "      <td>standard</td>\n",
       "      <td>none</td>\n",
       "      <td>72</td>\n",
       "      <td>72</td>\n",
       "      <td>74</td>\n",
       "    </tr>\n",
       "    <tr>\n",
       "      <th>1</th>\n",
       "      <td>female</td>\n",
       "      <td>group C</td>\n",
       "      <td>some college</td>\n",
       "      <td>standard</td>\n",
       "      <td>completed</td>\n",
       "      <td>69</td>\n",
       "      <td>90</td>\n",
       "      <td>88</td>\n",
       "    </tr>\n",
       "    <tr>\n",
       "      <th>2</th>\n",
       "      <td>female</td>\n",
       "      <td>group B</td>\n",
       "      <td>master's degree</td>\n",
       "      <td>standard</td>\n",
       "      <td>none</td>\n",
       "      <td>90</td>\n",
       "      <td>95</td>\n",
       "      <td>93</td>\n",
       "    </tr>\n",
       "    <tr>\n",
       "      <th>3</th>\n",
       "      <td>male</td>\n",
       "      <td>group A</td>\n",
       "      <td>associate's degree</td>\n",
       "      <td>free/reduced</td>\n",
       "      <td>none</td>\n",
       "      <td>47</td>\n",
       "      <td>57</td>\n",
       "      <td>44</td>\n",
       "    </tr>\n",
       "    <tr>\n",
       "      <th>4</th>\n",
       "      <td>male</td>\n",
       "      <td>group C</td>\n",
       "      <td>some college</td>\n",
       "      <td>standard</td>\n",
       "      <td>none</td>\n",
       "      <td>76</td>\n",
       "      <td>78</td>\n",
       "      <td>75</td>\n",
       "    </tr>\n",
       "  </tbody>\n",
       "</table>\n",
       "</div>"
      ],
      "text/plain": [
       "   gender race/ethnicity parental level of education         lunch  \\\n",
       "0  female        group B           bachelor's degree      standard   \n",
       "1  female        group C                some college      standard   \n",
       "2  female        group B             master's degree      standard   \n",
       "3    male        group A          associate's degree  free/reduced   \n",
       "4    male        group C                some college      standard   \n",
       "\n",
       "  test preparation course  math score  reading score  writing score  \n",
       "0                    none          72             72             74  \n",
       "1               completed          69             90             88  \n",
       "2                    none          90             95             93  \n",
       "3                    none          47             57             44  \n",
       "4                    none          76             78             75  "
      ]
     },
     "execution_count": 245,
     "metadata": {},
     "output_type": "execute_result"
    }
   ],
   "source": [
    "students = pd.read_csv(\"StudentsPerformance.csv\")\n",
    "students.head()"
   ]
  },
  {
   "cell_type": "markdown",
   "metadata": {},
   "source": [
    "1. Определите национальный состав абитуриентов в процентом соотношении. Укажите долю абитуриентов 3-й по величине национальности."
   ]
  },
  {
   "cell_type": "code",
   "execution_count": 246,
   "metadata": {},
   "outputs": [
    {
     "data": {
      "text/plain": [
       "np.float64(19.0)"
      ]
     },
     "execution_count": 246,
     "metadata": {},
     "output_type": "execute_result"
    }
   ],
   "source": [
    "race_ratio = students[\"race/ethnicity\"].value_counts(normalize=True) * 100\n",
    "\n",
    "race_ratio.iloc[2]"
   ]
  },
  {
   "cell_type": "markdown",
   "metadata": {},
   "source": [
    "2. Определите средний (округленный до 2 знаков), минимальный, максимальный балл по математике и кол-во сдававших отдельно для мальчиков и девочек."
   ]
  },
  {
   "cell_type": "code",
   "execution_count": 247,
   "metadata": {},
   "outputs": [
    {
     "data": {
      "text/html": [
       "<div>\n",
       "<style scoped>\n",
       "    .dataframe tbody tr th:only-of-type {\n",
       "        vertical-align: middle;\n",
       "    }\n",
       "\n",
       "    .dataframe tbody tr th {\n",
       "        vertical-align: top;\n",
       "    }\n",
       "\n",
       "    .dataframe thead th {\n",
       "        text-align: right;\n",
       "    }\n",
       "</style>\n",
       "<table border=\"1\" class=\"dataframe\">\n",
       "  <thead>\n",
       "    <tr style=\"text-align: right;\">\n",
       "      <th></th>\n",
       "      <th>mean</th>\n",
       "      <th>min</th>\n",
       "      <th>max</th>\n",
       "      <th>size</th>\n",
       "    </tr>\n",
       "    <tr>\n",
       "      <th>gender</th>\n",
       "      <th></th>\n",
       "      <th></th>\n",
       "      <th></th>\n",
       "      <th></th>\n",
       "    </tr>\n",
       "  </thead>\n",
       "  <tbody>\n",
       "    <tr>\n",
       "      <th>female</th>\n",
       "      <td>63.63</td>\n",
       "      <td>0</td>\n",
       "      <td>100</td>\n",
       "      <td>518</td>\n",
       "    </tr>\n",
       "    <tr>\n",
       "      <th>male</th>\n",
       "      <td>68.73</td>\n",
       "      <td>27</td>\n",
       "      <td>100</td>\n",
       "      <td>482</td>\n",
       "    </tr>\n",
       "  </tbody>\n",
       "</table>\n",
       "</div>"
      ],
      "text/plain": [
       "         mean  min  max  size\n",
       "gender                       \n",
       "female  63.63    0  100   518\n",
       "male    68.73   27  100   482"
      ]
     },
     "execution_count": 247,
     "metadata": {},
     "output_type": "execute_result"
    }
   ],
   "source": [
    "grouped_by_gender = students.groupby(\"gender\")\n",
    "\n",
    "grouped_by_gender[\"math score\"].agg([\"mean\", \"min\", \"max\", \"size\"]).round(2)"
   ]
  },
  {
   "cell_type": "markdown",
   "metadata": {},
   "source": [
    "3. Определите суммарный балл по 3 предметам для каждого студента. Выясните, есть ли зависимость уровня образования родителей от результатов вступительных испытаний? Для ответа на вопрос посчитайте средний балл абитуриентов (округленный до 2 знаков) в зависимости от уровня образования родителей:"
   ]
  },
  {
   "cell_type": "code",
   "execution_count": 248,
   "metadata": {},
   "outputs": [
    {
     "data": {
      "text/plain": [
       "parental level of education\n",
       "master's degree       220.80\n",
       "bachelor's degree     215.77\n",
       "associate's degree    208.71\n",
       "some college          205.43\n",
       "some high school      195.32\n",
       "high school           189.29\n",
       "Name: total score, dtype: float64"
      ]
     },
     "execution_count": 248,
     "metadata": {},
     "output_type": "execute_result"
    }
   ],
   "source": [
    "students[\"total score\"] = (\n",
    "    students[\"math score\"] + students[\"reading score\"] + students[\"writing score\"]\n",
    ")\n",
    "\n",
    "students.groupby(\"parental level of education\")[\"total score\"].mean().round(\n",
    "    2\n",
    ").sort_values(ascending=False)"
   ]
  },
  {
   "cell_type": "markdown",
   "metadata": {},
   "source": [
    "*Вывод*: чем выше образование родителей, тем выше средний балл студентов за вступительные испытания"
   ]
  },
  {
   "cell_type": "markdown",
   "metadata": {},
   "source": [
    "4. Определите, на сколько выше средний балл абитуриентов, закончивших подготовительные курсы. В ответе запишите округленное целое число."
   ]
  },
  {
   "cell_type": "code",
   "execution_count": 249,
   "metadata": {},
   "outputs": [
    {
     "data": {
      "text/plain": [
       "23"
      ]
     },
     "execution_count": 249,
     "metadata": {},
     "output_type": "execute_result"
    }
   ],
   "source": [
    "completed_preparation_course = students[\"test preparation course\"] == \"completed\"\n",
    "\n",
    "round(\n",
    "    students[completed_preparation_course][\"total score\"].mean()\n",
    "    - students[~completed_preparation_course][\"total score\"].mean(),\n",
    ")"
   ]
  },
  {
   "cell_type": "markdown",
   "metadata": {},
   "source": [
    "5. Предположим, что университет имеет 459 бюджетных мест. Определите проходной балл и укажите отдельно кол-во рекомендованных к зачислению мальчиков и девочек."
   ]
  },
  {
   "cell_type": "code",
   "execution_count": 250,
   "metadata": {},
   "outputs": [
    {
     "name": "stdout",
     "output_type": "stream",
     "text": [
      "Проходной балл: 210\n"
     ]
    },
    {
     "data": {
      "text/plain": [
       "gender\n",
       "female    268\n",
       "male      191\n",
       "dtype: int64"
      ]
     },
     "execution_count": 250,
     "metadata": {},
     "output_type": "execute_result"
    }
   ],
   "source": [
    "passed_students = students.nlargest(459, \"total score\")\n",
    "\n",
    "passing_score = passed_students.iloc[-1][\"total score\"]\n",
    "print(f\"Проходной балл: {passing_score}\")\n",
    "\n",
    "grouped_by_gender = passed_students.groupby(\"gender\")\n",
    "grouped_by_gender.size()"
   ]
  }
 ],
 "metadata": {
  "kernelspec": {
   "display_name": "venv",
   "language": "python",
   "name": "python3"
  },
  "language_info": {
   "codemirror_mode": {
    "name": "ipython",
    "version": 3
   },
   "file_extension": ".py",
   "mimetype": "text/x-python",
   "name": "python",
   "nbconvert_exporter": "python",
   "pygments_lexer": "ipython3",
   "version": "3.13.2"
  }
 },
 "nbformat": 4,
 "nbformat_minor": 2
}
