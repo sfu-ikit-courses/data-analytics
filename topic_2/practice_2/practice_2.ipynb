{
 "cells": [
  {
   "cell_type": "markdown",
   "metadata": {},
   "source": [
    "# Практическая работа 2 (Тест)\n",
    "## Тема: Приведение данных в порядок"
   ]
  },
  {
   "cell_type": "markdown",
   "metadata": {},
   "source": [
    "### Настройка окружения"
   ]
  },
  {
   "cell_type": "code",
   "execution_count": 159,
   "metadata": {},
   "outputs": [],
   "source": [
    "import pandas as pd\n",
    "import numpy as np"
   ]
  },
  {
   "cell_type": "markdown",
   "metadata": {},
   "source": [
    "### Вопрос 1\n"
   ]
  },
  {
   "cell_type": "markdown",
   "metadata": {},
   "source": [
    "Набор данных [BikesData.csv](./BikesData.csv) содержит сведения о работе велопроката.\n",
    "\n",
    "Описание переменных:\n",
    "\n",
    "- **Date** - день/месяц/год (с 1 декабря 2017 года по 30 ноября 2018 года)\n",
    "- **Hour** - час (от 0 до 24)\n",
    "- **Temperature** - температура в градусах Цельсия\n",
    "- **Humidity** - процент влажности\n",
    "- **Wind speed** - скорость ветра м/сек\n",
    "- **Rainfall** - осадки в виде дождя, мм\n",
    "- **Snowfall** - осадки в виде снега, мм\n",
    "- **Seasons** - сезон (Winter, Spring, Summer, Autumn)\n",
    "- **Holiday** - рабочий или праздничный день (Holiday/No holiday)\n",
    "- **Function Day** - рабочий или нерабочий день велопроката (Yes/No)\n",
    "- **Rental Count** - количество велосипедов, взятых в аренду в этот час"
   ]
  },
  {
   "cell_type": "code",
   "execution_count": 175,
   "metadata": {},
   "outputs": [
    {
     "data": {
      "text/html": [
       "<div>\n",
       "<style scoped>\n",
       "    .dataframe tbody tr th:only-of-type {\n",
       "        vertical-align: middle;\n",
       "    }\n",
       "\n",
       "    .dataframe tbody tr th {\n",
       "        vertical-align: top;\n",
       "    }\n",
       "\n",
       "    .dataframe thead th {\n",
       "        text-align: right;\n",
       "    }\n",
       "</style>\n",
       "<table border=\"1\" class=\"dataframe\">\n",
       "  <thead>\n",
       "    <tr style=\"text-align: right;\">\n",
       "      <th></th>\n",
       "      <th>Date</th>\n",
       "      <th>Hour</th>\n",
       "      <th>Temperature</th>\n",
       "      <th>Humidity</th>\n",
       "      <th>Wind speed</th>\n",
       "      <th>Rainfall</th>\n",
       "      <th>Snowfall</th>\n",
       "      <th>Seasons</th>\n",
       "      <th>Holiday</th>\n",
       "      <th>Functioning Day</th>\n",
       "      <th>Rental Count</th>\n",
       "    </tr>\n",
       "  </thead>\n",
       "  <tbody>\n",
       "    <tr>\n",
       "      <th>0</th>\n",
       "      <td>2017-12-01</td>\n",
       "      <td>0</td>\n",
       "      <td>-5.2</td>\n",
       "      <td>37</td>\n",
       "      <td>2.2</td>\n",
       "      <td>0.0</td>\n",
       "      <td>0.0</td>\n",
       "      <td>Winter</td>\n",
       "      <td>0</td>\n",
       "      <td>True</td>\n",
       "      <td>257</td>\n",
       "    </tr>\n",
       "    <tr>\n",
       "      <th>1</th>\n",
       "      <td>2017-12-01</td>\n",
       "      <td>1</td>\n",
       "      <td>-5.5</td>\n",
       "      <td>38</td>\n",
       "      <td>0.8</td>\n",
       "      <td>0.0</td>\n",
       "      <td>0.0</td>\n",
       "      <td>Winter</td>\n",
       "      <td>0</td>\n",
       "      <td>True</td>\n",
       "      <td>219</td>\n",
       "    </tr>\n",
       "    <tr>\n",
       "      <th>2</th>\n",
       "      <td>2017-12-01</td>\n",
       "      <td>2</td>\n",
       "      <td>-6.0</td>\n",
       "      <td>39</td>\n",
       "      <td>1.0</td>\n",
       "      <td>0.0</td>\n",
       "      <td>0.0</td>\n",
       "      <td>Winter</td>\n",
       "      <td>0</td>\n",
       "      <td>True</td>\n",
       "      <td>162</td>\n",
       "    </tr>\n",
       "    <tr>\n",
       "      <th>3</th>\n",
       "      <td>2017-12-01</td>\n",
       "      <td>3</td>\n",
       "      <td>-6.2</td>\n",
       "      <td>40</td>\n",
       "      <td>0.9</td>\n",
       "      <td>0.0</td>\n",
       "      <td>0.0</td>\n",
       "      <td>Winter</td>\n",
       "      <td>0</td>\n",
       "      <td>True</td>\n",
       "      <td>148</td>\n",
       "    </tr>\n",
       "    <tr>\n",
       "      <th>4</th>\n",
       "      <td>2017-12-01</td>\n",
       "      <td>4</td>\n",
       "      <td>-6.0</td>\n",
       "      <td>36</td>\n",
       "      <td>2.3</td>\n",
       "      <td>0.0</td>\n",
       "      <td>0.0</td>\n",
       "      <td>Winter</td>\n",
       "      <td>0</td>\n",
       "      <td>True</td>\n",
       "      <td>97</td>\n",
       "    </tr>\n",
       "  </tbody>\n",
       "</table>\n",
       "</div>"
      ],
      "text/plain": [
       "        Date  Hour  Temperature  Humidity  Wind speed  Rainfall  Snowfall  \\\n",
       "0 2017-12-01     0         -5.2        37         2.2       0.0       0.0   \n",
       "1 2017-12-01     1         -5.5        38         0.8       0.0       0.0   \n",
       "2 2017-12-01     2         -6.0        39         1.0       0.0       0.0   \n",
       "3 2017-12-01     3         -6.2        40         0.9       0.0       0.0   \n",
       "4 2017-12-01     4         -6.0        36         2.3       0.0       0.0   \n",
       "\n",
       "  Seasons  Holiday  Functioning Day  Rental Count  \n",
       "0  Winter        0             True           257  \n",
       "1  Winter        0             True           219  \n",
       "2  Winter        0             True           162  \n",
       "3  Winter        0             True           148  \n",
       "4  Winter        0             True            97  "
      ]
     },
     "execution_count": 175,
     "metadata": {},
     "output_type": "execute_result"
    }
   ],
   "source": [
    "bikes = pd.read_csv(\"BikesData.csv\", parse_dates=[\"Date\"])\n",
    "bikes.head()"
   ]
  },
  {
   "cell_type": "markdown",
   "metadata": {},
   "source": [
    "1. Укажите кол-во наблюдений в датафрейме."
   ]
  },
  {
   "cell_type": "code",
   "execution_count": 176,
   "metadata": {},
   "outputs": [
    {
     "data": {
      "text/plain": [
       "8760"
      ]
     },
     "execution_count": 176,
     "metadata": {},
     "output_type": "execute_result"
    }
   ],
   "source": [
    "len(bikes)"
   ]
  },
  {
   "cell_type": "markdown",
   "metadata": {},
   "source": [
    "2. Укажите кол-во переменных, содержащих пропуски."
   ]
  },
  {
   "cell_type": "code",
   "execution_count": 177,
   "metadata": {},
   "outputs": [
    {
     "data": {
      "text/plain": [
       "1"
      ]
     },
     "execution_count": 177,
     "metadata": {},
     "output_type": "execute_result"
    }
   ],
   "source": [
    "len(bikes.columns[bikes.isnull().sum() > 0])"
   ]
  },
  {
   "cell_type": "markdown",
   "metadata": {},
   "source": [
    "3. Укажите кол-во пропусков в переменной **Temperature**."
   ]
  },
  {
   "cell_type": "code",
   "execution_count": 178,
   "metadata": {},
   "outputs": [
    {
     "data": {
      "text/plain": [
       "np.int64(179)"
      ]
     },
     "execution_count": 178,
     "metadata": {},
     "output_type": "execute_result"
    }
   ],
   "source": [
    "bikes.isnull().sum().loc[\"Temperature\"]"
   ]
  },
  {
   "cell_type": "markdown",
   "metadata": {},
   "source": [
    "4. Укажите среднее значение температуры до заполнения пропусков. Ответ округлите до 2 знаков после запятой."
   ]
  },
  {
   "cell_type": "code",
   "execution_count": 179,
   "metadata": {},
   "outputs": [
    {
     "data": {
      "text/plain": [
       "np.float64(12.88)"
      ]
     },
     "execution_count": 179,
     "metadata": {},
     "output_type": "execute_result"
    }
   ],
   "source": [
    "round(bikes.Temperature.mean(), 2)"
   ]
  },
  {
   "cell_type": "markdown",
   "metadata": {},
   "source": [
    "5. Укажите медианное значение температуры до заполнения пропусков."
   ]
  },
  {
   "cell_type": "code",
   "execution_count": 180,
   "metadata": {},
   "outputs": [
    {
     "data": {
      "text/plain": [
       "np.float64(13.7)"
      ]
     },
     "execution_count": 180,
     "metadata": {},
     "output_type": "execute_result"
    }
   ],
   "source": [
    "bikes.Temperature.median()"
   ]
  },
  {
   "cell_type": "markdown",
   "metadata": {},
   "source": [
    "6. Создайте столбец **Temp_26** и заполните все пропуски данных температуры значением 26. Укажите среднее значение температуры (столбец **Temp_26**) в 2018 году. Ответ округлите до 2 знаков после запятой."
   ]
  },
  {
   "cell_type": "code",
   "execution_count": 181,
   "metadata": {},
   "outputs": [
    {
     "data": {
      "text/plain": [
       "np.float64(14.49)"
      ]
     },
     "execution_count": 181,
     "metadata": {},
     "output_type": "execute_result"
    }
   ],
   "source": [
    "bikes[\"Temp_26\"] = bikes.Temperature.fillna(26)\n",
    "mask = bikes.Date.dt.year == 2018\n",
    "\n",
    "round(bikes[mask][\"Temp_26\"].mean(), 2)"
   ]
  },
  {
   "cell_type": "markdown",
   "metadata": {},
   "source": [
    "7. Создайте столбец **Temp_Median** и заполните все пропуски данных температуры медианным значением. Укажите кол-во наблюдений, когда температура (столбец **Temp_Median**) превысила 24 градуса."
   ]
  },
  {
   "cell_type": "code",
   "execution_count": 231,
   "metadata": {},
   "outputs": [
    {
     "data": {
      "text/plain": [
       "np.int64(1775)"
      ]
     },
     "execution_count": 231,
     "metadata": {},
     "output_type": "execute_result"
    }
   ],
   "source": [
    "bikes[\"Temp_Median\"] = bikes.Temperature.fillna(bikes.Temperature.median())\n",
    "mask = bikes[\"Temp_Median\"] > 24\n",
    "\n",
    "mask.sum()"
   ]
  },
  {
   "cell_type": "markdown",
   "metadata": {},
   "source": [
    "8. Создайте столбец **Temperature_Random** и заполните все пропуски случайными значениями температуры из столбца **Temperature**. Укажите значение температуры (столбец **Temperature_Random**) для строки на 4302 позиции.\n",
    "\n",
    "    *Примечание*: С помощью метода `np.random.choice()` предварительно создайте серию, в которой для каждого наблюдения будет храниться случайное значение температуры из столбца **Temperature** (значения NaN в списке, из которого будут выбираться случайные значения, необходимо исключить). Задайте начальное значение генератора случайных чисел равное 6. Затем используйте получившуюся серию для заполнения пропусков с помощью метода `fillna()`: если для какого-то наблюдения будет пропущено значение температуры, то пропуск заполняется значением из серии, которое соответствует индексу наблюдения."
   ]
  },
  {
   "cell_type": "code",
   "execution_count": 183,
   "metadata": {},
   "outputs": [
    {
     "data": {
      "text/plain": [
       "np.float64(-4.7)"
      ]
     },
     "execution_count": 183,
     "metadata": {},
     "output_type": "execute_result"
    }
   ],
   "source": [
    "np.random.seed(6)\n",
    "n = len(bikes)\n",
    "temperatures = bikes.Temperature.dropna()\n",
    "\n",
    "fill_values = pd.Series(np.random.choice(temperatures, n))\n",
    "bikes[\"Temperature_Random\"] = bikes.Temperature.fillna(fill_values)\n",
    "\n",
    "bikes.iloc[4302][\"Temperature_Random\"]"
   ]
  },
  {
   "cell_type": "markdown",
   "metadata": {},
   "source": [
    "9. Напишите функцию, которая будет заполнять пропуски на основе среднего значения температуры на одну строку выше и на одну строку ниже пропущенного. Для заполнения пропусков создайте отдельный столбец. Укажите кол-во наблюдений, для которых не удалось заполнить пропуски по предложенному алгоритму."
   ]
  },
  {
   "cell_type": "code",
   "execution_count": null,
   "metadata": {},
   "outputs": [
    {
     "data": {
      "text/plain": [
       "np.int64(6)"
      ]
     },
     "execution_count": 184,
     "metadata": {},
     "output_type": "execute_result"
    }
   ],
   "source": [
    "def fill_missing(\n",
    "    df: pd.DataFrame, col: str, *, inplace: bool = False\n",
    ") -> tuple[pd.DataFrame, int]:\n",
    "    if not inplace:\n",
    "        df = df.copy()\n",
    "\n",
    "    filled_col = col + \"_Filled\"\n",
    "    df[filled_col] = df[col]\n",
    "\n",
    "    df[filled_col] = df[filled_col].fillna((df[col].shift(1) + df[col].shift(-1)) / 2)\n",
    "\n",
    "    missing_after_fill = df[filled_col].isnull().sum()\n",
    "\n",
    "    return df, missing_after_fill\n",
    "\n",
    "\n",
    "_, missing_after_fill = fill_missing(bikes, \"Temperature\", inplace=True)\n",
    "missing_after_fill"
   ]
  },
  {
   "cell_type": "markdown",
   "metadata": {},
   "source": [
    "10. Создайте столбец **Date_Hour**, который будет хранить дату и время в формате: 2024-03-25 22:00:00. С помощью линейной интерполяции заполните пропущенные значения. Укажите температуру для строки, находящейся на 3539 позиции."
   ]
  },
  {
   "cell_type": "code",
   "execution_count": null,
   "metadata": {},
   "outputs": [
    {
     "data": {
      "text/plain": [
       "np.float64(17.4)"
      ]
     },
     "execution_count": 185,
     "metadata": {},
     "output_type": "execute_result"
    }
   ],
   "source": [
    "bikes[\"Date_Hour\"] = bikes.Date + pd.to_timedelta(bikes[\"Hour\"], unit=\"h\")\n",
    "\n",
    "bikes.Temperature.interpolate()[3539]"
   ]
  },
  {
   "cell_type": "markdown",
   "metadata": {},
   "source": [
    "### Вопрос 2\n",
    "Продолжаем работать с набором данных [BikesData.csv](./BikesData.csv), который содержит сведения о работе велопроката.\n",
    "\n",
    "Заполните пропуски в столбце **Temperature** с использованием линейной интерполяции (см. п.10 вопроса 1) и выполните следующие задания:"
   ]
  },
  {
   "cell_type": "code",
   "execution_count": 186,
   "metadata": {},
   "outputs": [],
   "source": [
    "bikes.Temperature = bikes.Temperature.interpolate()"
   ]
  },
  {
   "cell_type": "markdown",
   "metadata": {},
   "source": [
    "1. Создайте бинарную переменную (столбец **Normal Humidity**) для хранения информации о том, была ли влажность нормальной (от 40% до 60%). Укажите кол-во наблюдений в 2017 году с ненормальной влажностью."
   ]
  },
  {
   "cell_type": "code",
   "execution_count": 237,
   "metadata": {},
   "outputs": [
    {
     "data": {
      "text/plain": [
       "np.int64(514)"
      ]
     },
     "execution_count": 237,
     "metadata": {},
     "output_type": "execute_result"
    }
   ],
   "source": [
    "bikes[\"Normal Humidity\"] = np.where(bikes.Humidity.between(40, 60), 1, 0)\n",
    "mask = (bikes.Date.dt.year == 2017) & (bikes[\"Normal Humidity\"] == 0)\n",
    "\n",
    "mask.sum()"
   ]
  },
  {
   "cell_type": "markdown",
   "metadata": {},
   "source": [
    "2. Создайте категориальную переменную **Temperature Category** перекодировав количественную **Temperature** по следующей шкале:\n",
    "\n",
    "    - *t < 0* - категория Freezing (заморозки),\n",
    "    - *0 <= t < 15* - категория Chilly (прохладно),\n",
    "    - *15 <= t < 25* - категория Nice (идеальная),\n",
    "    - *t >= 25* - категория Hot (жарко).\n",
    "\n",
    "    Укажите кол-во наблюдений в категории Chilly."
   ]
  },
  {
   "cell_type": "code",
   "execution_count": null,
   "metadata": {},
   "outputs": [
    {
     "data": {
      "text/plain": [
       "np.int64(3190)"
      ]
     },
     "execution_count": 232,
     "metadata": {},
     "output_type": "execute_result"
    }
   ],
   "source": [
    "bikes[\"Temperature Category\"] = pd.cut(\n",
    "    bikes.Temperature,\n",
    "    bins=[-np.inf, 0, 15, 25, np.inf],\n",
    "    labels=[\"Freezing\", \"Chilly\", \"Nice\", \"Hot\"],\n",
    "    right=False,\n",
    ")\n",
    "\n",
    "mask = bikes[\"Temperature Category\"] == \"Chilly\"\n",
    "\n",
    "mask.sum()"
   ]
  },
  {
   "cell_type": "markdown",
   "metadata": {},
   "source": [
    "3. Так как измерения ведутся каждый час, определим, к какой температурной категории относится весь день. Будем считать, что день был, например, жарким, если большая часть наблюдений в течении дня относилась к категории Hot.\n",
    "\n",
    "    Укажите кол-во прохладных дней в 2018 году."
   ]
  },
  {
   "cell_type": "code",
   "execution_count": null,
   "metadata": {},
   "outputs": [
    {
     "data": {
      "text/plain": [
       "np.int64(128)"
      ]
     },
     "execution_count": 256,
     "metadata": {},
     "output_type": "execute_result"
    }
   ],
   "source": [
    "bikes_2018 = bikes[bikes.Date.dt.year == 2018]\n",
    "daily_categories = bikes_2018.groupby(\"Date\")[\"Temperature Category\"].agg(\n",
    "    lambda x: x.mode()[0]\n",
    ")\n",
    "\n",
    "mask = daily_categories == \"Chilly\"\n",
    "mask.sum()"
   ]
  },
  {
   "cell_type": "markdown",
   "metadata": {},
   "source": [
    "4. Создайте бинарную переменную **Good Weather**, показывающая является ли погода для данного наблюдения хорошей. Хорошая погода зависит от:\n",
    "\n",
    "    - температуры (*Temperature Category = Nice*)\n",
    "    - влажности (*Normal Humidity = 1*),\n",
    "    - скорости ветра (*Wind speed <= 5.4*),\n",
    "    - был ли дождь (*Rainfall = 0*),\n",
    "    - был ли снег (*Snowfall = 0*).\n",
    "\n",
    "    *Примечание*: для записи условия можно воспользоваться функцией `numpy.where`(условие, 1, 0).\n",
    "\n",
    "    Укажите кол-во наблюдений с хорошей погодой весной 2018 года."
   ]
  },
  {
   "cell_type": "code",
   "execution_count": null,
   "metadata": {},
   "outputs": [
    {
     "data": {
      "text/plain": [
       "np.int64(258)"
      ]
     },
     "execution_count": 257,
     "metadata": {},
     "output_type": "execute_result"
    }
   ],
   "source": [
    "mask = (\n",
    "    (bikes[\"Temperature Category\"] == \"Nice\")\n",
    "    & (bikes[\"Normal Humidity\"] == True)\n",
    "    & (bikes[\"Wind speed\"] <= 5.4)\n",
    "    & (bikes.Rainfall == 0)\n",
    "    & (bikes.Snowfall == 0)\n",
    ")\n",
    "\n",
    "bikes[\"Good Weather\"] = np.where(mask, 1, 0)\n",
    "\n",
    "spring_2018 = bikes[\n",
    "    (bikes.Date.dt.year == 2018) & (bikes.Date.dt.month.isin([3, 4, 5]))\n",
    "]\n",
    "\n",
    "mask = spring_2018[\"Good Weather\"] == 1\n",
    "\n",
    "mask.sum()"
   ]
  },
  {
   "cell_type": "markdown",
   "metadata": {},
   "source": [
    "5. Так как измерения ведутся каждый час, определим, была ли погода хорошей для всего дня, если для 12 и более наблюдений в течении дня погода была хорошей.\n",
    "\n",
    "    Укажите, кол-во дней с хорошей погодой весной 2018 года."
   ]
  },
  {
   "cell_type": "code",
   "execution_count": 258,
   "metadata": {},
   "outputs": [
    {
     "data": {
      "text/plain": [
       "np.int64(3)"
      ]
     },
     "execution_count": 258,
     "metadata": {},
     "output_type": "execute_result"
    }
   ],
   "source": [
    "daily_categories = spring_2018.groupby(\"Date\")[\"Good Weather\"].sum()\n",
    "\n",
    "mask = daily_categories >= 12\n",
    "\n",
    "mask.sum()"
   ]
  },
  {
   "cell_type": "markdown",
   "metadata": {},
   "source": [
    "### Вопрос 3\n",
    "\n",
    "Набор данных [students.csv](./students.csv) содержит сведения о студентах, которые проходили анкетирование."
   ]
  },
  {
   "cell_type": "code",
   "execution_count": null,
   "metadata": {},
   "outputs": [
    {
     "data": {
      "text/html": [
       "<div>\n",
       "<style scoped>\n",
       "    .dataframe tbody tr th:only-of-type {\n",
       "        vertical-align: middle;\n",
       "    }\n",
       "\n",
       "    .dataframe tbody tr th {\n",
       "        vertical-align: top;\n",
       "    }\n",
       "\n",
       "    .dataframe thead th {\n",
       "        text-align: right;\n",
       "    }\n",
       "</style>\n",
       "<table border=\"1\" class=\"dataframe\">\n",
       "  <thead>\n",
       "    <tr style=\"text-align: right;\">\n",
       "      <th></th>\n",
       "      <th>Age</th>\n",
       "      <th>Growth</th>\n",
       "      <th>Shoe size</th>\n",
       "      <th>Course number</th>\n",
       "      <th>Year of birth</th>\n",
       "      <th>Friend number</th>\n",
       "      <th>Russian rating</th>\n",
       "      <th>Maths rating</th>\n",
       "      <th>Physics rating</th>\n",
       "      <th>Computer science rating</th>\n",
       "      <th>...</th>\n",
       "      <th>Social network duration min</th>\n",
       "      <th>Chocolate</th>\n",
       "      <th>City population</th>\n",
       "      <th>Strange people</th>\n",
       "      <th>Your insitute</th>\n",
       "      <th>Brother-sister</th>\n",
       "      <th>Plane seat</th>\n",
       "      <th>MIddle and index finger</th>\n",
       "      <th>Middle and ring finger</th>\n",
       "      <th>Middle and little finger</th>\n",
       "    </tr>\n",
       "  </thead>\n",
       "  <tbody>\n",
       "    <tr>\n",
       "      <th>0</th>\n",
       "      <td>20</td>\n",
       "      <td>170</td>\n",
       "      <td>40</td>\n",
       "      <td>2</td>\n",
       "      <td>2002</td>\n",
       "      <td>100</td>\n",
       "      <td>85</td>\n",
       "      <td>86</td>\n",
       "      <td>0</td>\n",
       "      <td>84</td>\n",
       "      <td>...</td>\n",
       "      <td>45</td>\n",
       "      <td>Сникерс</td>\n",
       "      <td>800000.0</td>\n",
       "      <td>Экономический</td>\n",
       "      <td>Математический и ИТ</td>\n",
       "      <td>нет ни брата ни сестры</td>\n",
       "      <td>У окна (пардон: у иллюминатора)</td>\n",
       "      <td>20</td>\n",
       "      <td>10.0</td>\n",
       "      <td>40.0</td>\n",
       "    </tr>\n",
       "    <tr>\n",
       "      <th>1</th>\n",
       "      <td>22</td>\n",
       "      <td>191</td>\n",
       "      <td>43</td>\n",
       "      <td>7</td>\n",
       "      <td>2000</td>\n",
       "      <td>307</td>\n",
       "      <td>69</td>\n",
       "      <td>74</td>\n",
       "      <td>64</td>\n",
       "      <td>72</td>\n",
       "      <td>...</td>\n",
       "      <td>180</td>\n",
       "      <td>КитКат</td>\n",
       "      <td>800000.0</td>\n",
       "      <td>Математический и ИТ</td>\n",
       "      <td>Математический и ИТ</td>\n",
       "      <td>есть и брат и сестра</td>\n",
       "      <td>В середине</td>\n",
       "      <td>5</td>\n",
       "      <td>5.0</td>\n",
       "      <td>20.0</td>\n",
       "    </tr>\n",
       "    <tr>\n",
       "      <th>2</th>\n",
       "      <td>21</td>\n",
       "      <td>172</td>\n",
       "      <td>41</td>\n",
       "      <td>4</td>\n",
       "      <td>2000</td>\n",
       "      <td>186</td>\n",
       "      <td>78</td>\n",
       "      <td>62</td>\n",
       "      <td>0</td>\n",
       "      <td>0</td>\n",
       "      <td>...</td>\n",
       "      <td>90</td>\n",
       "      <td>КитКат</td>\n",
       "      <td>770000.0</td>\n",
       "      <td>Педагогический</td>\n",
       "      <td>Другое</td>\n",
       "      <td>есть брат</td>\n",
       "      <td>У окна (пардон: у иллюминатора)</td>\n",
       "      <td>13</td>\n",
       "      <td>10.0</td>\n",
       "      <td>26.0</td>\n",
       "    </tr>\n",
       "    <tr>\n",
       "      <th>3</th>\n",
       "      <td>19</td>\n",
       "      <td>168</td>\n",
       "      <td>38</td>\n",
       "      <td>2</td>\n",
       "      <td>2003</td>\n",
       "      <td>604</td>\n",
       "      <td>72</td>\n",
       "      <td>0</td>\n",
       "      <td>0</td>\n",
       "      <td>0</td>\n",
       "      <td>...</td>\n",
       "      <td>200</td>\n",
       "      <td>Баунти</td>\n",
       "      <td>900000.0</td>\n",
       "      <td>СоцГум</td>\n",
       "      <td>Юридический</td>\n",
       "      <td>есть сестра</td>\n",
       "      <td>У окна (пардон: у иллюминатора)</td>\n",
       "      <td>12</td>\n",
       "      <td>13.5</td>\n",
       "      <td>35.0</td>\n",
       "    </tr>\n",
       "    <tr>\n",
       "      <th>4</th>\n",
       "      <td>23</td>\n",
       "      <td>159</td>\n",
       "      <td>36</td>\n",
       "      <td>1</td>\n",
       "      <td>1998</td>\n",
       "      <td>144</td>\n",
       "      <td>0</td>\n",
       "      <td>0</td>\n",
       "      <td>0</td>\n",
       "      <td>0</td>\n",
       "      <td>...</td>\n",
       "      <td>400</td>\n",
       "      <td>Баунти</td>\n",
       "      <td>860000.0</td>\n",
       "      <td>Педагогический</td>\n",
       "      <td>Педагогический</td>\n",
       "      <td>есть сестра</td>\n",
       "      <td>У окна (пардон: у иллюминатора)</td>\n",
       "      <td>10</td>\n",
       "      <td>11.0</td>\n",
       "      <td>22.0</td>\n",
       "    </tr>\n",
       "  </tbody>\n",
       "</table>\n",
       "<p>5 rows × 48 columns</p>\n",
       "</div>"
      ],
      "text/plain": [
       "   Age  Growth  Shoe size  Course number  Year of birth  Friend number  \\\n",
       "0   20     170         40              2           2002            100   \n",
       "1   22     191         43              7           2000            307   \n",
       "2   21     172         41              4           2000            186   \n",
       "3   19     168         38              2           2003            604   \n",
       "4   23     159         36              1           1998            144   \n",
       "\n",
       "   Russian rating  Maths rating  Physics rating  Computer science rating  ...  \\\n",
       "0              85            86               0                       84  ...   \n",
       "1              69            74              64                       72  ...   \n",
       "2              78            62               0                        0  ...   \n",
       "3              72             0               0                        0  ...   \n",
       "4               0             0               0                        0  ...   \n",
       "\n",
       "   Social network duration min  Chocolate  City population  \\\n",
       "0                           45    Сникерс         800000.0   \n",
       "1                          180     КитКат         800000.0   \n",
       "2                           90     КитКат         770000.0   \n",
       "3                          200     Баунти         900000.0   \n",
       "4                          400     Баунти         860000.0   \n",
       "\n",
       "        Strange people        Your insitute          Brother-sister  \\\n",
       "0        Экономический  Математический и ИТ  нет ни брата ни сестры   \n",
       "1  Математический и ИТ  Математический и ИТ    есть и брат и сестра   \n",
       "2       Педагогический               Другое               есть брат   \n",
       "3               СоцГум          Юридический             есть сестра   \n",
       "4       Педагогический       Педагогический             есть сестра   \n",
       "\n",
       "                        Plane seat  MIddle and index finger  \\\n",
       "0  У окна (пардон: у иллюминатора)                       20   \n",
       "1                       В середине                        5   \n",
       "2  У окна (пардон: у иллюминатора)                       13   \n",
       "3  У окна (пардон: у иллюминатора)                       12   \n",
       "4  У окна (пардон: у иллюминатора)                       10   \n",
       "\n",
       "   Middle and ring finger  Middle and little finger  \n",
       "0                    10.0                      40.0  \n",
       "1                     5.0                      20.0  \n",
       "2                    10.0                      26.0  \n",
       "3                    13.5                      35.0  \n",
       "4                    11.0                      22.0  \n",
       "\n",
       "[5 rows x 48 columns]"
      ]
     },
     "execution_count": 288,
     "metadata": {},
     "output_type": "execute_result"
    }
   ],
   "source": [
    "students = pd.read_csv(\"students.csv\")\n",
    "students.head()"
   ]
  },
  {
   "cell_type": "markdown",
   "metadata": {},
   "source": [
    "1. Укажите кол-во строк датафрейма."
   ]
  },
  {
   "cell_type": "code",
   "execution_count": 294,
   "metadata": {},
   "outputs": [
    {
     "data": {
      "text/plain": [
       "186"
      ]
     },
     "execution_count": 294,
     "metadata": {},
     "output_type": "execute_result"
    }
   ],
   "source": [
    "students.shape[0]"
   ]
  },
  {
   "cell_type": "markdown",
   "metadata": {},
   "source": [
    "2. Укажите кол-во переменных, содержащих пропуски."
   ]
  },
  {
   "cell_type": "code",
   "execution_count": 295,
   "metadata": {},
   "outputs": [
    {
     "data": {
      "text/plain": [
       "4"
      ]
     },
     "execution_count": 295,
     "metadata": {},
     "output_type": "execute_result"
    }
   ],
   "source": [
    "students.columns[students.isnull().any()].shape[0]"
   ]
  },
  {
   "cell_type": "markdown",
   "metadata": {},
   "source": [
    "3. Удалите строки (не изменяя исходный датафрейм), в которых содержится хотя бы один пропуск. Сколько всего осталось строк?"
   ]
  },
  {
   "cell_type": "code",
   "execution_count": 296,
   "metadata": {},
   "outputs": [
    {
     "data": {
      "text/plain": [
       "118"
      ]
     },
     "execution_count": 296,
     "metadata": {},
     "output_type": "execute_result"
    }
   ],
   "source": [
    "students.dropna().shape[0]"
   ]
  },
  {
   "cell_type": "markdown",
   "metadata": {},
   "source": [
    "4. Удалите столбцы (не изменяя исходный датафрейм), в которых есть 10 и более пропусков. Сколько всего осталось столбцов?"
   ]
  },
  {
   "cell_type": "code",
   "execution_count": 301,
   "metadata": {},
   "outputs": [
    {
     "data": {
      "text/plain": [
       "45"
      ]
     },
     "execution_count": 301,
     "metadata": {},
     "output_type": "execute_result"
    }
   ],
   "source": [
    "students.dropna(thresh=students.shape[0] - 10, axis=1).shape[1]"
   ]
  },
  {
   "cell_type": "markdown",
   "metadata": {},
   "source": [
    "5. Заполним пропуски в признаке **Weight** (вес): всем женщинам (поле **Sex** хранит пол студента), которые не указали свой вес, присвоим средний вес женщин, а мужчинам - средний вес мужчин. Укажите средний вес всех студентов после заполнения пропусков с точностью до 2 знаков после запятой."
   ]
  },
  {
   "cell_type": "code",
   "execution_count": 314,
   "metadata": {},
   "outputs": [
    {
     "data": {
      "text/plain": [
       "np.float64(63.53)"
      ]
     },
     "execution_count": 314,
     "metadata": {},
     "output_type": "execute_result"
    }
   ],
   "source": [
    "is_woman = students.Sex == \"женский\"\n",
    "\n",
    "women_mean_weight = students[is_woman].Weight.mean()\n",
    "men_mean_weight = students[~is_woman].Weight.mean()\n",
    "\n",
    "means = pd.Series(np.where(is_woman, women_mean_weight, men_mean_weight))\n",
    "\n",
    "students.Weight.fillna(means, inplace=True)\n",
    "\n",
    "round(students.Weight.mean(), 2)"
   ]
  },
  {
   "cell_type": "markdown",
   "metadata": {},
   "source": [
    "### Вопрос 4\n",
    "С использованием следующего программного кода создайте датафрейм:\n",
    "\n",
    "Укажите кол-во дублирующихся строк."
   ]
  },
  {
   "cell_type": "code",
   "execution_count": null,
   "metadata": {},
   "outputs": [
    {
     "data": {
      "text/plain": [
       "np.int64(258)"
      ]
     },
     "execution_count": 131,
     "metadata": {},
     "output_type": "execute_result"
    }
   ],
   "source": [
    "# Код из вопроса\n",
    "np.random.seed(1)\n",
    "x_cnt = np.random.randint(100, 200)\n",
    "y_cnt = np.random.randint(150, 300)\n",
    "data = pd.DataFrame(\n",
    "    {\"a\": [\"x\"] * x_cnt + [\"y\"] * y_cnt, \"b\": np.random.randint(1, 100, x_cnt + y_cnt)}\n",
    ")\n",
    "\n",
    "data.duplicated().sum()"
   ]
  }
 ],
 "metadata": {
  "kernelspec": {
   "display_name": "venv",
   "language": "python",
   "name": "python3"
  },
  "language_info": {
   "codemirror_mode": {
    "name": "ipython",
    "version": 3
   },
   "file_extension": ".py",
   "mimetype": "text/x-python",
   "name": "python",
   "nbconvert_exporter": "python",
   "pygments_lexer": "ipython3",
   "version": "3.13.2"
  }
 },
 "nbformat": 4,
 "nbformat_minor": 2
}
