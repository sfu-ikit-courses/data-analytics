{
 "cells": [
  {
   "cell_type": "markdown",
   "metadata": {},
   "source": [
    "# Практическая работа 6 (Тест)\n",
    "## Тема: Введение в статистический анализ данных"
   ]
  },
  {
   "cell_type": "markdown",
   "metadata": {},
   "source": [
    "### Настройка окружения"
   ]
  },
  {
   "cell_type": "code",
   "execution_count": null,
   "metadata": {},
   "outputs": [],
   "source": [
    "import pandas as pd"
   ]
  },
  {
   "cell_type": "markdown",
   "metadata": {},
   "source": [
    "## Часть 1"
   ]
  },
  {
   "cell_type": "markdown",
   "metadata": {},
   "source": [
    "Для успешного прохождения теста вам потребуется воспользоваться [данными](./StarWars.csv) по серии фильмов «Звездные войны», самостоятельно загрузив их в Python.\n",
    "\n",
    "*Описание данных*\n",
    "\n",
    "- **respondentID** — идентификационный номер респондента;\n",
    "- **seen** — ответ на вопрос, видел ли респондент хотя бы один фильм из серии «Звездных войн» (да/нет);\n",
    "- **fan** — ответ на вопрос, считает ли респондент себя фанатом серии фильмов (да/нет);\n",
    "- **gender** — пол респондента (М/Ж);\n",
    "- **age_group** — возрастная группа, к которой принадлежит респондент (18-29, 30-44, 45-60, > 60);\n",
    "- **income** — доход респондента в долларах США (0 - 24.999, 25.000 - 49.999, 50.000 - 99.999, 100.000 - 149.999, 150.000+);\n",
    "- **loc** — регион проживания респондента (в США);\n",
    "- **yoda** — отношение респондента к персонажу серии (Йоде);\n",
    "- **princess_leia_organa** — отношение респондента к персонажу серии (принцессе Лее Органе)."
   ]
  },
  {
   "cell_type": "code",
   "execution_count": 65,
   "metadata": {},
   "outputs": [
    {
     "data": {
      "text/html": [
       "<div>\n",
       "<style scoped>\n",
       "    .dataframe tbody tr th:only-of-type {\n",
       "        vertical-align: middle;\n",
       "    }\n",
       "\n",
       "    .dataframe tbody tr th {\n",
       "        vertical-align: top;\n",
       "    }\n",
       "\n",
       "    .dataframe thead th {\n",
       "        text-align: right;\n",
       "    }\n",
       "</style>\n",
       "<table border=\"1\" class=\"dataframe\">\n",
       "  <thead>\n",
       "    <tr style=\"text-align: right;\">\n",
       "      <th></th>\n",
       "      <th>respondentID</th>\n",
       "      <th>seen</th>\n",
       "      <th>fan</th>\n",
       "      <th>gender</th>\n",
       "      <th>age_group</th>\n",
       "      <th>income</th>\n",
       "      <th>loc</th>\n",
       "      <th>yoda</th>\n",
       "      <th>princess_leia_organa</th>\n",
       "    </tr>\n",
       "  </thead>\n",
       "  <tbody>\n",
       "    <tr>\n",
       "      <th>0</th>\n",
       "      <td>3292879998</td>\n",
       "      <td>да</td>\n",
       "      <td>да</td>\n",
       "      <td>М</td>\n",
       "      <td>18-29</td>\n",
       "      <td>NaN</td>\n",
       "      <td>Южно-Атлантический</td>\n",
       "      <td>очень нравится</td>\n",
       "      <td>очень нравится</td>\n",
       "    </tr>\n",
       "  </tbody>\n",
       "</table>\n",
       "</div>"
      ],
      "text/plain": [
       "   respondentID seen fan gender age_group income                 loc  \\\n",
       "0    3292879998   да  да      М     18-29    NaN  Южно-Атлантический   \n",
       "\n",
       "             yoda princess_leia_organa  \n",
       "0  очень нравится       очень нравится  "
      ]
     },
     "execution_count": 65,
     "metadata": {},
     "output_type": "execute_result"
    }
   ],
   "source": [
    "survey = pd.read_csv(\"StarWars.csv\", sep=\";\")\n",
    "survey.head(1)"
   ]
  },
  {
   "cell_type": "markdown",
   "metadata": {},
   "source": [
    "### Вопрос 1\n",
    "К какой шкале относится переменная **gender**?"
   ]
  },
  {
   "cell_type": "markdown",
   "metadata": {},
   "source": [
    "*Ответ*: Номинальная"
   ]
  },
  {
   "cell_type": "markdown",
   "metadata": {},
   "source": [
    "### Вопрос 2\n",
    "Сколько респондентов не ответили на вопрос о своем регионе проживания?"
   ]
  },
  {
   "cell_type": "code",
   "execution_count": 66,
   "metadata": {},
   "outputs": [
    {
     "data": {
      "text/plain": [
       "np.int64(143)"
      ]
     },
     "execution_count": 66,
     "metadata": {},
     "output_type": "execute_result"
    }
   ],
   "source": [
    "survey[\"loc\"].isnull().sum()"
   ]
  },
  {
   "cell_type": "markdown",
   "metadata": {},
   "source": [
    "### Вопрос 3\n",
    "Данные каких столбцов нельзя упорядочить?"
   ]
  },
  {
   "cell_type": "markdown",
   "metadata": {},
   "source": [
    "*Ответ*: **seen**, **fan**, **gender**, **loc**, **yoda**, **princess_leia_organa**"
   ]
  },
  {
   "cell_type": "markdown",
   "metadata": {},
   "source": [
    "### Вопрос 4\n",
    "Укажите, верно ли следующее утверждение: все женщины старше 60 лет, входящие в категорию с наивысшим доходом и являющиеся фанатами серии фильмов, проживают в одном регионе."
   ]
  },
  {
   "cell_type": "code",
   "execution_count": 67,
   "metadata": {},
   "outputs": [
    {
     "data": {
      "text/plain": [
       "False"
      ]
     },
     "execution_count": 67,
     "metadata": {},
     "output_type": "execute_result"
    }
   ],
   "source": [
    "old_rich_women_fans = survey[(\n",
    "    (survey.fan == \"да\")\n",
    "    & (survey.gender == \"Ж\")\n",
    "    & (survey[\"age_group\"] == \"> 60\")\n",
    "    & (survey.income == \"150.000+\")\n",
    ")]\n",
    "\n",
    "old_rich_women_fans[\"loc\"].nunique() == 1"
   ]
  },
  {
   "cell_type": "markdown",
   "metadata": {},
   "source": [
    "### Вопрос 5\n",
    "Мужчины 18-29 лет, которые не являются фанатами серии, чаще всего проживают в ... регионе."
   ]
  },
  {
   "cell_type": "code",
   "execution_count": 68,
   "metadata": {},
   "outputs": [
    {
     "data": {
      "text/plain": [
       "'Тихоокеанский'"
      ]
     },
     "execution_count": 68,
     "metadata": {},
     "output_type": "execute_result"
    }
   ],
   "source": [
    "middle_age_men = survey[\n",
    "    ((survey.fan == \"нет\") & (survey.gender == \"М\") & (survey[\"age_group\"] == \"18-29\"))\n",
    "]\n",
    "\n",
    "middle_age_men[\"loc\"].value_counts().idxmax()"
   ]
  },
  {
   "cell_type": "markdown",
   "metadata": {},
   "source": [
    "### Вопрос 6\n",
    "Какой регион проживания реже всего встречается в данных?"
   ]
  },
  {
   "cell_type": "code",
   "execution_count": 69,
   "metadata": {},
   "outputs": [
    {
     "data": {
      "text/plain": [
       "'Юго-Восточный центральный'"
      ]
     },
     "execution_count": 69,
     "metadata": {},
     "output_type": "execute_result"
    }
   ],
   "source": [
    "survey[\"loc\"].value_counts().idxmin()"
   ]
  },
  {
   "cell_type": "markdown",
   "metadata": {},
   "source": [
    "### Вопрос 7\n",
    "Скольким респондентам одновременно очень нравятся Йода и принцесса Лея Органа?"
   ]
  },
  {
   "cell_type": "code",
   "execution_count": 70,
   "metadata": {},
   "outputs": [
    {
     "data": {
      "text/plain": [
       "462"
      ]
     },
     "execution_count": 70,
     "metadata": {},
     "output_type": "execute_result"
    }
   ],
   "source": [
    "yoda_and_leia_fans = survey[\n",
    "    (survey.yoda == \"очень нравится\")\n",
    "    & (survey[\"princess_leia_organa\"] == \"очень нравится\")\n",
    "]\n",
    "\n",
    "len(yoda_and_leia_fans)"
   ]
  },
  {
   "cell_type": "markdown",
   "metadata": {},
   "source": [
    "### Вопрос 8\n",
    "Скольким респондентам из Новой Англии очень нравится принцесса Лея Органа?"
   ]
  },
  {
   "cell_type": "code",
   "execution_count": 71,
   "metadata": {},
   "outputs": [
    {
     "data": {
      "text/plain": [
       "39"
      ]
     },
     "execution_count": 71,
     "metadata": {},
     "output_type": "execute_result"
    }
   ],
   "source": [
    "uk_leia_fans = survey[\n",
    "    (survey[\"loc\"] == \"Новая Англия\")\n",
    "    & (survey[\"princess_leia_organa\"] == \"очень нравится\")\n",
    "]\n",
    "\n",
    "len(uk_leia_fans)"
   ]
  },
  {
   "cell_type": "markdown",
   "metadata": {},
   "source": [
    "### Вопрос 9\n",
    "Посмотрите на мужчин, проживающих в горном районе. В ответ запишите ID респондента, входящего в категорию с наивысшим доходом при заданных условиях."
   ]
  },
  {
   "cell_type": "code",
   "execution_count": 72,
   "metadata": {},
   "outputs": [
    {
     "data": {
      "text/plain": [
       "np.int64(3291077381)"
      ]
     },
     "execution_count": 72,
     "metadata": {},
     "output_type": "execute_result"
    }
   ],
   "source": [
    "mountain_men = survey[(survey[\"loc\"] == \"Горный\") & (survey.gender == \"М\")]\n",
    "\n",
    "mountain_men[mountain_men.income == \"150.000+\"].iloc[0].respondentID"
   ]
  },
  {
   "cell_type": "markdown",
   "metadata": {},
   "source": [
    "### Вопрос 10\n",
    "Верно ли следующее утверждение: фанатов серии фильмов в возрастной категории 30-44 меньше, чем не-фанатов в возрастной категории 18-29.\n",
    "\n",
    "В ответе укажите абсолютное значение разницы между числом фанатов и не-фанатов при заданных условиях. "
   ]
  },
  {
   "cell_type": "code",
   "execution_count": 73,
   "metadata": {},
   "outputs": [
    {
     "data": {
      "text/plain": [
       "94"
      ]
     },
     "execution_count": 73,
     "metadata": {},
     "output_type": "execute_result"
    }
   ],
   "source": [
    "middle_age_fans = survey[(survey.fan == \"да\") & (survey[\"age_group\"] == \"30-44\")]\n",
    "young_age_not_fans = survey[(survey.fan == \"нет\") & (survey[\"age_group\"] == \"18-29\")]\n",
    "\n",
    "abs(len(middle_age_fans) - len(young_age_not_fans))"
   ]
  },
  {
   "cell_type": "markdown",
   "metadata": {},
   "source": [
    "### Вопрос 11\n",
    "Сколько процентов (от общего числа респондентов) являются фанатами серии фильмов, проживают в Новой Англии и имеют доход 0 - 24.999 долларов?\n",
    "\n",
    "В ответ запишите число (процент от 0 до 100), округлите до целого."
   ]
  },
  {
   "cell_type": "code",
   "execution_count": 74,
   "metadata": {},
   "outputs": [
    {
     "data": {
      "text/plain": [
       "1"
      ]
     },
     "execution_count": 74,
     "metadata": {},
     "output_type": "execute_result"
    }
   ],
   "source": [
    "uk_poor_fans = survey[\n",
    "    (survey[\"loc\"] == \"Новая Англия\")\n",
    "    & (survey.fan == \"да\")\n",
    "    & (survey.income == \"0 - 24.999\")\n",
    "]\n",
    "\n",
    "round((len(uk_poor_fans) / len(survey)) * 100)"
   ]
  },
  {
   "cell_type": "markdown",
   "metadata": {},
   "source": [
    "## Часть 2"
   ]
  },
  {
   "cell_type": "markdown",
   "metadata": {},
   "source": [
    "Для успешного прохождения теста вам потребуется воспользоваться [данными](./MarvelComicCharacters.csv) персонажей вселенной Marvel, самостоятельно загрузив их в Python.\n",
    "\n",
    "*Описание данных*\n",
    "- **name** — оригинальное имя персонажа вселенной Marvel\n",
    "- **align** — принадлежность персонажа к доброй/злой/нейтральной стороне\n",
    "- **eye** — описание глаз персонажа\n",
    "- **hair** — описание волос персонажа\n",
    "- **sex** — пол персонажа\n",
    "- **appearances** — количество появлений персонажа\n",
    "- **first_appearance** — год первого появления персонажа"
   ]
  },
  {
   "cell_type": "code",
   "execution_count": 75,
   "metadata": {},
   "outputs": [
    {
     "data": {
      "text/html": [
       "<div>\n",
       "<style scoped>\n",
       "    .dataframe tbody tr th:only-of-type {\n",
       "        vertical-align: middle;\n",
       "    }\n",
       "\n",
       "    .dataframe tbody tr th {\n",
       "        vertical-align: top;\n",
       "    }\n",
       "\n",
       "    .dataframe thead th {\n",
       "        text-align: right;\n",
       "    }\n",
       "</style>\n",
       "<table border=\"1\" class=\"dataframe\">\n",
       "  <thead>\n",
       "    <tr style=\"text-align: right;\">\n",
       "      <th></th>\n",
       "      <th>name</th>\n",
       "      <th>align</th>\n",
       "      <th>eye</th>\n",
       "      <th>hair</th>\n",
       "      <th>sex</th>\n",
       "      <th>appearances</th>\n",
       "      <th>first_appearance</th>\n",
       "    </tr>\n",
       "  </thead>\n",
       "  <tbody>\n",
       "    <tr>\n",
       "      <th>0</th>\n",
       "      <td>Spider-Man (Peter Parker)</td>\n",
       "      <td>Добрый персонаж</td>\n",
       "      <td>Карие глаза</td>\n",
       "      <td>Каштановые волосы</td>\n",
       "      <td>Мужской персонаж</td>\n",
       "      <td>4043.0</td>\n",
       "      <td>1962.0</td>\n",
       "    </tr>\n",
       "  </tbody>\n",
       "</table>\n",
       "</div>"
      ],
      "text/plain": [
       "                        name            align          eye               hair  \\\n",
       "0  Spider-Man (Peter Parker)  Добрый персонаж  Карие глаза  Каштановые волосы   \n",
       "\n",
       "                sex  appearances  first_appearance  \n",
       "0  Мужской персонаж       4043.0            1962.0  "
      ]
     },
     "execution_count": 75,
     "metadata": {},
     "output_type": "execute_result"
    }
   ],
   "source": [
    "characters = pd.read_csv(\"MarvelComicCharacters.csv\", sep=\";\")\n",
    "characters.head(1)"
   ]
  },
  {
   "cell_type": "markdown",
   "metadata": {},
   "source": [
    "### Вопрос 1\n",
    "Что не может представлять собой генеральную совокупность?\n",
    "\n",
    "*Варианты ответа*\n",
    "\n",
    "1. Мужчины в возрастной группе 25-30 лет\n",
    "2. Нет верного ответа\n",
    "3. Россияне\n",
    "4. Школьники Красноярска"
   ]
  },
  {
   "cell_type": "markdown",
   "metadata": {},
   "source": [
    "*Ответ*: Нет верного ответа"
   ]
  },
  {
   "cell_type": "markdown",
   "metadata": {},
   "source": [
    "### Вопрос 2\n",
    "Укажите, верно ли следующее утверждение: переменную **name** можно изобразить на интерпретируемом графике."
   ]
  },
  {
   "cell_type": "markdown",
   "metadata": {},
   "source": [
    "*Ответ*: Неверно"
   ]
  },
  {
   "cell_type": "markdown",
   "metadata": {},
   "source": [
    "### Вопрос 3\n",
    "Какое значение находится в колонке **appearances** для доброго персонажа с пурпурными глазами?"
   ]
  },
  {
   "cell_type": "code",
   "execution_count": 82,
   "metadata": {},
   "outputs": [
    {
     "data": {
      "text/plain": [
       "np.float64(21.0)"
      ]
     },
     "execution_count": 82,
     "metadata": {},
     "output_type": "execute_result"
    }
   ],
   "source": [
    "kind_with_purple_eyes = characters[\n",
    "    (characters[\"align\"] == \"Добрый персонаж\")\n",
    "    & (characters.eye == \"Пурпурные глаза\")\n",
    "]\n",
    "\n",
    "kind_with_purple_eyes[\"appearances\"].iloc[0]"
   ]
  },
  {
   "cell_type": "markdown",
   "metadata": {},
   "source": [
    "### Вопрос 4\n",
    "Заполните пропущенное значение во фрагменте частотной таблицы по переменной **eye**.\n",
    "\n",
    "| Серые глаза | Карие глаза | Розовые глаза |\n",
    "|------------|------------|--------------|\n",
    "| 95         | ...      | 21           |"
   ]
  },
  {
   "cell_type": "code",
   "execution_count": 86,
   "metadata": {},
   "outputs": [
    {
     "data": {
      "text/plain": [
       "np.int64(76)"
      ]
     },
     "execution_count": 86,
     "metadata": {},
     "output_type": "execute_result"
    }
   ],
   "source": [
    "characters[\"eye\"].value_counts()[\"Карие глаза\"]"
   ]
  },
  {
   "cell_type": "markdown",
   "metadata": {},
   "source": [
    "### Вопрос 5\n",
    "Постройте частотную таблицу по переменной **hair** для персонажей мужского пола с карими глазами. У скольких из них черные волосы?"
   ]
  },
  {
   "cell_type": "code",
   "execution_count": 89,
   "metadata": {},
   "outputs": [
    {
     "data": {
      "text/plain": [
       "np.int64(10)"
      ]
     },
     "execution_count": 89,
     "metadata": {},
     "output_type": "execute_result"
    }
   ],
   "source": [
    "men_with_brown_eyes = characters[\n",
    "    (characters.sex == \"Мужской персонаж\")\n",
    "    & (characters.eye == \"Карие глаза\")\n",
    "]\n",
    "\n",
    "men_with_brown_eyes.hair.value_counts()[\"Черные волосы\"]"
   ]
  },
  {
   "cell_type": "markdown",
   "metadata": {},
   "source": [
    "### Вопрос 6\n",
    "Какой тип графика наиболее удобен для описания распределения переменной **appearances**?"
   ]
  },
  {
   "cell_type": "markdown",
   "metadata": {},
   "source": [
    "*Ответ*: Гистограмма"
   ]
  },
  {
   "cell_type": "markdown",
   "metadata": {},
   "source": [
    "### Вопрос 7\n",
    "Меньше всего персонажей в первый раз появилось в ... году."
   ]
  },
  {
   "cell_type": "code",
   "execution_count": 91,
   "metadata": {},
   "outputs": [
    {
     "data": {
      "text/plain": [
       "np.float64(1958.0)"
      ]
     },
     "execution_count": 91,
     "metadata": {},
     "output_type": "execute_result"
    }
   ],
   "source": [
    "characters[\"first_appearance\"].value_counts().idxmin()"
   ]
  },
  {
   "cell_type": "markdown",
   "metadata": {},
   "source": [
    "### Вопрос 8\n",
    "Сколько процентов (от общего числа персонажей) составляют мужские персонажи, которые появлялись больше 100 раз?\n",
    "\n",
    "В ответ запишите число (процент от 0 до 100), округлите до целого."
   ]
  },
  {
   "cell_type": "code",
   "execution_count": 95,
   "metadata": {},
   "outputs": [
    {
     "data": {
      "text/plain": [
       "2"
      ]
     },
     "execution_count": 95,
     "metadata": {},
     "output_type": "execute_result"
    }
   ],
   "source": [
    "famous_men = characters[\n",
    "    (characters.sex == \"Мужской персонаж\") & (characters.appearances > 100)\n",
    "]\n",
    "\n",
    "round((len(famous_men) / len(characters)) * 100)"
   ]
  },
  {
   "cell_type": "markdown",
   "metadata": {},
   "source": [
    "### Вопрос 9\n",
    "Были выбраны 5 самых часто встречающихся цветов глаз персонажей. Постройте столбчатую диаграмму по этим данным."
   ]
  },
  {
   "cell_type": "code",
   "execution_count": 108,
   "metadata": {},
   "outputs": [
    {
     "data": {
      "image/png": "[encoded data removed]",
      "text/plain": [
       "<Figure size 1000x600 with 1 Axes>"
      ]
     },
     "metadata": {},
     "output_type": "display_data"
    }
   ],
   "source": [
    "import matplotlib.pyplot as plt\n",
    "\n",
    "frequent_eyes = characters.eye.value_counts().head(5)\n",
    "\n",
    "eye_align_counts = characters.groupby([\"eye\", \"align\"]).size().unstack(fill_value=0)\n",
    "\n",
    "top_eyes = frequent_eyes.index\n",
    "eye_align_counts = eye_align_counts.loc[top_eyes]\n",
    "\n",
    "ax = eye_align_counts.plot(\n",
    "    kind=\"bar\",\n",
    "    figsize=(10, 6),\n",
    "    width=0.8,\n",
    "    color=[\"skyblue\", \"salmon\", \"gray\"],\n",
    "    edgecolor=\"black\",\n",
    ")\n",
    "\n",
    "plt.title(\"Топ-5 цветов глаз персонажей\", fontsize=14)\n",
    "plt.xlabel(\"Цвет глаз\", fontsize=12)\n",
    "plt.ylabel(\"Количество персонажей\", fontsize=12)\n",
    "\n",
    "plt.xticks(rotation=45)\n",
    "\n",
    "plt.legend(title=\"Сторона\", labels=[\"Добрый\", \"Злой\", \"Нейтральный\"])\n",
    "\n",
    "plt.show()"
   ]
  }
 ],
 "metadata": {
  "kernelspec": {
   "display_name": "venv",
   "language": "python",
   "name": "python3"
  },
  "language_info": {
   "codemirror_mode": {
    "name": "ipython",
    "version": 3
   },
   "file_extension": ".py",
   "mimetype": "text/x-python",
   "name": "python",
   "nbconvert_exporter": "python",
   "pygments_lexer": "ipython3",
   "version": "3.13.2"
  }
 },
 "nbformat": 4,
 "nbformat_minor": 2
}
